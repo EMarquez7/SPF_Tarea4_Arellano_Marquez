{
 "cells": [
  {
   "cell_type": "markdown",
   "metadata": {},
   "source": [
    "<img style=\"float: left; margin: 30px 15px 15px 15px;\" src=\"https://pngimage.net/wp-content/uploads/2018/06/logo-iteso-png-5.png\" width=\"300\" height=\"500\" /> \n",
    "    \n",
    "    \n",
    "### <font color='navy'> Simulación de procesos financieros. \n",
    "\n",
    "**Nombres:** Iván Arellano y Esteban Marquez\n",
    "\n",
    "**Fecha:** 17 de septiembre del 2021.\n",
    "\n",
    "**Expediente** : 714383 , 700637 .\n",
    "**Profesor:** Oscar David Jaramillo Zuluaga.\n",
    "    \n",
    "**Link Github**: https://github.com/IvanArellanoRuelas/SPF_Tarea4_Arellano_Marquez\n",
    "\n",
    "# Tarea 4: Clase 7"
   ]
  },
  {
   "cell_type": "markdown",
   "metadata": {},
   "source": [
    "# 1\n",
    "Como ejemplo simple de una simulación de Monte Carlo, considere calcular la probabilidad de una suma particular del lanzamiento de tres dados (cada dado tiene valores del uno al seis). Además cada dado tiene las siguientes carácterísticas: el primer dado no está cargado (distribución uniforme todos son equiprobables); el segundo y tercer dado están cargados basados en una distribución binomial con parámetros (`n=5, p=0.5` y `n=5, p=0.2`). Calcule la probabilidad de que la suma resultante sea 7, 14 o 18. ### Ejercicio 1: (enunciado) Transcribirlo"
   ]
  },
  {
   "cell_type": "code",
   "execution_count": 173,
   "metadata": {},
   "outputs": [],
   "source": [
    "# Importación de paquetes\n",
    "import numpy as np\n",
    "import matplotlib.pyplot as plt\n",
    "import pandas as pd\n",
    "import os\n",
    "import scipy.stats as st"
   ]
  },
  {
   "cell_type": "markdown",
   "metadata": {},
   "source": [
    "### Ejercicio 1 - Código de solución estudiante 1 Iván "
   ]
  },
  {
   "cell_type": "code",
   "execution_count": 174,
   "metadata": {},
   "outputs": [],
   "source": [
    "np.random.seed(44)\n",
    "n = 1000000\n",
    "dado_no_cargado = np.random.randint(1,7,n)\n",
    "dado_cargado_1 = st.binom(n=5 , p=0.5 , loc=1).rvs(size=n)\n",
    "dado_cargado_2 = st.binom(n=5 , p=0.2 , loc=1).rvs(size=n)\n",
    "suma = dado_no_cargado + dado_cargado_1 + dado_cargado_2\n"
   ]
  },
  {
   "cell_type": "code",
   "execution_count": 175,
   "metadata": {},
   "outputs": [
    {
     "data": {
      "text/plain": [
       "[0.126805, 0.013711, 4e-06]"
      ]
     },
     "execution_count": 175,
     "metadata": {},
     "output_type": "execute_result"
    }
   ],
   "source": [
    "resultante = [7,14,18]\n",
    "[len(suma[suma == i])/len(suma) for i in resultante]"
   ]
  },
  {
   "cell_type": "markdown",
   "metadata": {},
   "source": [
    "### Ejercicio 1 - Código de solución estudiante 2 Esteban"
   ]
  },
  {
   "cell_type": "code",
   "execution_count": 176,
   "metadata": {},
   "outputs": [
    {
     "name": "stdout",
     "output_type": "stream",
     "text": [
      "La probabilidad de obtener como suma 7,14 y 18 en el lanzamiento de 3 dados es: [0.127032, 0.013544, 1e-06] para cada uno respectivamente.\n"
     ]
    }
   ],
   "source": [
    "# Solución\n",
    "np.random.seed(500) #semilla para fijar valores aleatorios\n",
    "#random.uniform(low=0.0, high=1.0, size=None) #Sintáxis de posible distribución a utilizar.. (X).\n",
    "\n",
    "dice1 = dice1=np.random.randint(low=1, high=7, size=1000000) #Distribución aleatoria para valores discretos (✓)\n",
    "dice2 = st.binom(5, 0.5, loc = 1).rvs(size = 1000000) #Distribución binomial, size = # de simulaciones.\n",
    "dice3 = st.binom(5, 0.2, loc = 1).rvs(size = 1000000) #Todos deben tener el mismo size.\n",
    "\n",
    "#método ineficiente\n",
    "suma = dice1+dice2+dice3\n",
    "(len(suma[suma == 7])/len(suma)),(len(suma[suma == 14])/len(suma)),(len(suma[suma == 18])/len(suma))\n",
    "\n",
    "#Compresión de listas\n",
    "x = [len(suma[suma == x])/len(suma) for x in [7,14,18]]\n",
    "print('La probabilidad de obtener como suma 7,14 y 18 en el lanzamiento de 3 dados es:', x, 'para cada uno respectivamente.')"
   ]
  },
  {
   "cell_type": "markdown",
   "metadata": {},
   "source": [
    "# 2 Ejercicio de aplicación- Cafetería Central\n",
    "\n",
    "Premisas para la simulación:\n",
    "- Negocio de alimentos que vende bebidas y alimentos.\n",
    "- Negocio dentro del ITESO.\n",
    "- Negocio en cafetería central.\n",
    "- Tipo de clientes (hombres y mujeres).\n",
    "- Rentabilidad del 60%.\n",
    "\n",
    "## Objetivo\n",
    "Realizar una simulación estimando el tiempo medio que se tardaran los clientes en ser atendidos entre el horario de 6:30 a 1 pm. Además saber el consumo. \n",
    "**Analizar supuestos y limitantes**"
   ]
  },
  {
   "cell_type": "markdown",
   "metadata": {},
   "source": [
    "## Supuestos en simulación\n",
    "Clasificación de clientes: \n",
    "- Mujer  = 1 $\\longrightarrow$ aleatorio < 0.5\n",
    "- Hombre = 0 $\\longrightarrow$ aleatorio $\\geq$ 0.5.\n",
    "\n",
    "Condiciones iniciales:\n",
    "- Todas las distrubuciones de probabilidad se supondrán uniformes.\n",
    "- Tiempo de simulación: 6:30 am - 1:30pm $\\longrightarrow$ T = 7 horas = 25200 seg.\n",
    "- Tiempo de llegada hasta ser atendido: Min=5seg, Max=30seg.\n",
    "- Tiempo que tardan los clientes en ser atendidos:\n",
    "    - Mujer: Min = 1 min= 60seg, Max = 5 min = 300 seg\n",
    "    - Hombre: Min = 40 seg, Max = 2 min= 120 seg\n",
    "- Consumo según el tipo de cliente:\n",
    "    - Mujer: Min = 30 pesos, Max = 100 pesos\n",
    "    - Hombre: Min = 20 pesos, Max = 80 pesos\n",
    "\n",
    "Responder las siguientes preguntas basados en los datos del problema:\n",
    "1. ¿Cuáles fueron los gastos de los hombres y las mujeres en 5 días de trabajo?.\n",
    "2. ¿Cuál fue el consumo promedio de los hombres y mujeres?\n",
    "3. ¿Cuál fue el número de personas atendidas por día?\n",
    "4. ¿Cuál fue el tiempo de atención promedio?\n",
    "5. ¿Cuánto fue la ganancia promedio de la cafetería en 5 días de trabajo y su respectiva rentabilidad?"
   ]
  },
  {
   "cell_type": "code",
   "execution_count": 177,
   "metadata": {},
   "outputs": [],
   "source": [
    "################## Datos del problema\n",
    "d = 5\n",
    "T =25200\n",
    "T_at_min = 5; T_at_max = 30\n",
    "T_mujer_min =60; T_mujer_max = 300\n",
    "T_hombre_min = 40; T_hombre_max = 120\n",
    "C_mujer_min = 30; C_mujer_max = 100\n",
    "C_hombre_min = 20; C_hombre_max = 80\n"
   ]
  },
  {
   "cell_type": "markdown",
   "metadata": {},
   "source": [
    "### Ejercicio 2 - Código de solución estudiante 1 Iván "
   ]
  },
  {
   "cell_type": "code",
   "execution_count": 178,
   "metadata": {},
   "outputs": [
    {
     "name": "stdout",
     "output_type": "stream",
     "text": [
      "Simulación tiempo atención: 7.039071991167438 \n",
      " Simulación tiempo Hombres: 76.24782160857893 \n",
      " Simulación tiempo Mujeres: 98.15699379842069 \n",
      " Simulación consumo Hombres: 78.37118982825598 \n",
      " Simulación consumo Mujeres: 40.15648138753554\n"
     ]
    }
   ],
   "source": [
    "#Simulaciones\n",
    "\n",
    "sim_t_aten = np.random.uniform(T_at_min,T_at_max)\n",
    "sim_t_hombre = np.random.uniform(T_hombre_min,T_hombre_max)\n",
    "sim_t_mujer = np.random.uniform(T_mujer_min,T_mujer_max)\n",
    "sim_c_hombre = np.random.uniform(C_hombre_min,C_hombre_max)\n",
    "sim_c_mujer = np.random.uniform(C_mujer_min,C_mujer_max)\n",
    "print('Simulación tiempo atención:',sim_t_aten,'\\n',\n",
    "      'Simulación tiempo Hombres:', sim_t_hombre,'\\n',\n",
    "      'Simulación tiempo Mujeres:',sim_t_mujer,'\\n',\n",
    "      'Simulación consumo Hombres:',sim_c_hombre,'\\n',\n",
    "      'Simulación consumo Mujeres:',sim_c_mujer)\n"
   ]
  },
  {
   "cell_type": "code",
   "execution_count": 179,
   "metadata": {},
   "outputs": [
    {
     "data": {
      "text/plain": [
       "((83.28689359974636, 78.37118982825598),\n",
       " (105.19606578958812, 40.15648138753554))"
      ]
     },
     "execution_count": 179,
     "metadata": {},
     "output_type": "execute_result"
    }
   ],
   "source": [
    "hombres = sim_t_hombre + sim_t_aten,sim_c_hombre\n",
    "mujeres = sim_t_mujer +  sim_t_aten,sim_c_mujer\n",
    "hombres , mujeres"
   ]
  },
  {
   "cell_type": "code",
   "execution_count": 180,
   "metadata": {},
   "outputs": [],
   "source": [
    "Consumo_H = []\n",
    "Consumo_M = []\n",
    "contador = 0\n",
    "Personas = []\n",
    "for i in range(d):\n",
    "    t_total = 0\n",
    "    contador = 0 \n",
    "    while t_total < T:\n",
    "        H_M = np.random.rand()\n",
    "        if H_M >= 0.5:\n",
    "            tiem = [np.random.uniform(T_hombre_min,T_hombre_max) + np.random.uniform(T_at_min,T_at_max) ,\n",
    "            np.random.uniform(C_hombre_min,C_hombre_max)]\n",
    "            h = Consumo_H.append(tiem[1])\n",
    "        else: \n",
    "            tiem = [np.random.uniform(T_mujer_min,T_mujer_max) + np.random.uniform(T_at_min,T_at_max), \n",
    "            np.random.uniform(C_mujer_min,C_mujer_max)]\n",
    "            m = Consumo_M.append(tiem[1])\n",
    "            \n",
    "        contador += 1\n",
    "        t_total += tiem[0]\n",
    "    Personas.append(contador)\n",
    "        "
   ]
  },
  {
   "cell_type": "code",
   "execution_count": 181,
   "metadata": {},
   "outputs": [
    {
     "data": {
      "text/plain": [
       "(20942.931994734143,\n",
       " 28958.570925575146,\n",
       " 49.86412379698606,\n",
       " 66.2667526901033,\n",
       " [177, 165, 190, 166, 159],\n",
       " 147.6099161430545,\n",
       " 29940.90175218557)"
      ]
     },
     "execution_count": 181,
     "metadata": {},
     "output_type": "execute_result"
    }
   ],
   "source": [
    "np.array(Consumo_H).sum() , np.array(Consumo_M).sum() , np.array(Consumo_H).mean() , np.array(Consumo_M).mean() , Personas , (np.array(t_total)/np.array(Personas)).mean() , np.array(Consumo_H).sum()*.60 + np.array(Consumo_M).sum()*.60"
   ]
  },
  {
   "cell_type": "markdown",
   "metadata": {},
   "source": [
    "#### *Intentando la programación optima*"
   ]
  },
  {
   "cell_type": "code",
   "execution_count": 182,
   "metadata": {},
   "outputs": [],
   "source": [
    "def tiemH ():\n",
    "    \"\"\"\n",
    "    Con esta función intento acelerar el calculo \n",
    "    para la simulación del tiempo y consumo del hombre \n",
    "    \"\"\"\n",
    "    return [np.random.uniform(T_hombre_min,T_hombre_max) + np.random.uniform(T_at_min,T_at_max),\n",
    "            np.random.uniform(C_hombre_min,C_hombre_max)]\n",
    "def tiemM():\n",
    "    \"\"\"\n",
    "    Con esta función intento acelerar el calculo \n",
    "    para la simulación del tiempo y consumo de la mujer \n",
    "    \"\"\"\n",
    "    return [np.random.uniform(T_mujer_min,T_mujer_max) + np.random.uniform(T_at_min,T_at_max), \n",
    "            np.random.uniform(C_mujer_min,C_mujer_max)]"
   ]
  },
  {
   "cell_type": "code",
   "execution_count": 183,
   "metadata": {},
   "outputs": [],
   "source": [
    "Consumo_H = []\n",
    "Consumo_M = []\n",
    "contador = 0\n",
    "Personas = []\n",
    "for i in range(d):\n",
    "    t_total = 0\n",
    "    contador = 0 \n",
    "    while t_total < T:\n",
    "        H_M = np.random.rand()\n",
    "        if H_M >= 0.5:\n",
    "            tiem = tiemH()\n",
    "            h = Consumo_H.append(tiem[1])\n",
    "        else: \n",
    "            tiem = tiemM()\n",
    "            m = Consumo_M.append(tiem[1])\n",
    "            \n",
    "        contador += 1\n",
    "        t_total += tiem[0]\n",
    "    Personas.append(contador)\n",
    "        "
   ]
  },
  {
   "cell_type": "code",
   "execution_count": 184,
   "metadata": {},
   "outputs": [
    {
     "data": {
      "text/plain": [
       "(23468.98854442377,\n",
       " 25843.72410270118,\n",
       " 50.3626363614244,\n",
       " 63.49809361843042,\n",
       " [171, 183, 179, 170, 170],\n",
       " 145.8571735531346,\n",
       " 29587.62758827497)"
      ]
     },
     "execution_count": 184,
     "metadata": {},
     "output_type": "execute_result"
    }
   ],
   "source": [
    "np.array(Consumo_H).sum() , np.array(Consumo_M).sum() , np.array(Consumo_H).mean() , np.array(Consumo_M).mean() , Personas , (np.array(t_total)/np.array(Personas)).mean() , np.array(Consumo_H).sum()*.60 + np.array(Consumo_M).sum()*.60"
   ]
  },
  {
   "cell_type": "code",
   "execution_count": 185,
   "metadata": {},
   "outputs": [
    {
     "name": "stdout",
     "output_type": "stream",
     "text": [
      " 1) Los gastos el hombre: 23468.98854442377  &  Los gastos de la mujer: 25843.72410270118 \n",
      " 2) Consumo promedio Hombre: 50.3626363614244 & Consumo Promedio Mujer: 63.49809361843042 \n",
      " 3) Numero de personas por día: [171, 183, 179, 170, 170] \n",
      " 4) Tiempo promedio de atención: 145.8571735531346 \n",
      " 5 Ganancias promedio de la cafeteria en 5 días: 29587.62758827497\n"
     ]
    }
   ],
   "source": [
    "print(' 1) Los gastos el hombre:',np.array(Consumo_H).sum(),' & ','Los gastos de la mujer:', np.array(Consumo_M).sum(), '\\n',\n",
    "      '2) Consumo promedio Hombre:',np.array(Consumo_H).mean(),'&','Consumo Promedio Mujer:',np.array(Consumo_M).mean(),'\\n',\n",
    "      '3) Numero de personas por día:', Personas,'\\n',\n",
    "      '4) Tiempo promedio de atención:',(np.array(t_total)/np.array(Personas)).mean(),'\\n',\n",
    "      '5 Ganancias promedio de la cafeteria en 5 días:',np.array(Consumo_H).sum()*.60 + np.array(Consumo_M).sum()*.60 )"
   ]
  },
  {
   "cell_type": "markdown",
   "metadata": {},
   "source": [
    "### Ejercicio 2 - Código de solución estudiante 2 Esteban"
   ]
  },
  {
   "cell_type": "markdown",
   "metadata": {},
   "source": [
    "#### Simulación de clientes: Día 1-5"
   ]
  },
  {
   "cell_type": "code",
   "execution_count": 186,
   "metadata": {},
   "outputs": [
    {
     "data": {
      "text/html": [
       "<div>\n",
       "<style scoped>\n",
       "    .dataframe tbody tr th:only-of-type {\n",
       "        vertical-align: middle;\n",
       "    }\n",
       "\n",
       "    .dataframe tbody tr th {\n",
       "        vertical-align: top;\n",
       "    }\n",
       "\n",
       "    .dataframe thead th {\n",
       "        text-align: right;\n",
       "    }\n",
       "</style>\n",
       "<table border=\"1\" class=\"dataframe\">\n",
       "  <thead>\n",
       "    <tr style=\"text-align: right;\">\n",
       "      <th></th>\n",
       "      <th>Sexo</th>\n",
       "      <th>Tiempo Atención</th>\n",
       "      <th>Tiempo Espera</th>\n",
       "      <th>Gasto</th>\n",
       "      <th>Tiempo Total</th>\n",
       "      <th>Tiempo Acumulado</th>\n",
       "    </tr>\n",
       "    <tr>\n",
       "      <th>Número</th>\n",
       "      <th></th>\n",
       "      <th></th>\n",
       "      <th></th>\n",
       "      <th></th>\n",
       "      <th></th>\n",
       "      <th></th>\n",
       "    </tr>\n",
       "  </thead>\n",
       "  <tbody>\n",
       "    <tr>\n",
       "      <th>0</th>\n",
       "      <td>1</td>\n",
       "      <td>5.883422</td>\n",
       "      <td>180.896556</td>\n",
       "      <td>80.011916</td>\n",
       "      <td>186.779978</td>\n",
       "      <td>186.779978</td>\n",
       "    </tr>\n",
       "    <tr>\n",
       "      <th>1</th>\n",
       "      <td>0</td>\n",
       "      <td>14.897266</td>\n",
       "      <td>75.222197</td>\n",
       "      <td>71.062932</td>\n",
       "      <td>90.119463</td>\n",
       "      <td>276.899441</td>\n",
       "    </tr>\n",
       "    <tr>\n",
       "      <th>2</th>\n",
       "      <td>0</td>\n",
       "      <td>8.933896</td>\n",
       "      <td>67.664498</td>\n",
       "      <td>62.512666</td>\n",
       "      <td>76.598393</td>\n",
       "      <td>353.497834</td>\n",
       "    </tr>\n",
       "    <tr>\n",
       "      <th>3</th>\n",
       "      <td>1</td>\n",
       "      <td>11.137582</td>\n",
       "      <td>265.494052</td>\n",
       "      <td>66.029103</td>\n",
       "      <td>276.631634</td>\n",
       "      <td>630.129469</td>\n",
       "    </tr>\n",
       "    <tr>\n",
       "      <th>4</th>\n",
       "      <td>1</td>\n",
       "      <td>15.778237</td>\n",
       "      <td>215.807229</td>\n",
       "      <td>67.401536</td>\n",
       "      <td>231.585466</td>\n",
       "      <td>861.714935</td>\n",
       "    </tr>\n",
       "    <tr>\n",
       "      <th>...</th>\n",
       "      <td>...</td>\n",
       "      <td>...</td>\n",
       "      <td>...</td>\n",
       "      <td>...</td>\n",
       "      <td>...</td>\n",
       "      <td>...</td>\n",
       "    </tr>\n",
       "    <tr>\n",
       "      <th>167</th>\n",
       "      <td>1</td>\n",
       "      <td>14.516060</td>\n",
       "      <td>248.924679</td>\n",
       "      <td>88.985897</td>\n",
       "      <td>263.440739</td>\n",
       "      <td>24486.352675</td>\n",
       "    </tr>\n",
       "    <tr>\n",
       "      <th>168</th>\n",
       "      <td>0</td>\n",
       "      <td>9.809366</td>\n",
       "      <td>85.226094</td>\n",
       "      <td>49.875835</td>\n",
       "      <td>95.035460</td>\n",
       "      <td>24581.388135</td>\n",
       "    </tr>\n",
       "    <tr>\n",
       "      <th>169</th>\n",
       "      <td>0</td>\n",
       "      <td>17.813667</td>\n",
       "      <td>82.263800</td>\n",
       "      <td>43.227077</td>\n",
       "      <td>100.077466</td>\n",
       "      <td>24681.465601</td>\n",
       "    </tr>\n",
       "    <tr>\n",
       "      <th>170</th>\n",
       "      <td>1</td>\n",
       "      <td>29.639705</td>\n",
       "      <td>65.348722</td>\n",
       "      <td>42.043607</td>\n",
       "      <td>94.988427</td>\n",
       "      <td>24776.454028</td>\n",
       "    </tr>\n",
       "    <tr>\n",
       "      <th>171</th>\n",
       "      <td>1</td>\n",
       "      <td>14.574105</td>\n",
       "      <td>288.409584</td>\n",
       "      <td>44.083431</td>\n",
       "      <td>302.983688</td>\n",
       "      <td>25079.437717</td>\n",
       "    </tr>\n",
       "  </tbody>\n",
       "</table>\n",
       "<p>172 rows × 6 columns</p>\n",
       "</div>"
      ],
      "text/plain": [
       "        Sexo  Tiempo Atención  Tiempo Espera      Gasto  Tiempo Total  \\\n",
       "Número                                                                  \n",
       "0          1         5.883422     180.896556  80.011916    186.779978   \n",
       "1          0        14.897266      75.222197  71.062932     90.119463   \n",
       "2          0         8.933896      67.664498  62.512666     76.598393   \n",
       "3          1        11.137582     265.494052  66.029103    276.631634   \n",
       "4          1        15.778237     215.807229  67.401536    231.585466   \n",
       "...      ...              ...            ...        ...           ...   \n",
       "167        1        14.516060     248.924679  88.985897    263.440739   \n",
       "168        0         9.809366      85.226094  49.875835     95.035460   \n",
       "169        0        17.813667      82.263800  43.227077    100.077466   \n",
       "170        1        29.639705      65.348722  42.043607     94.988427   \n",
       "171        1        14.574105     288.409584  44.083431    302.983688   \n",
       "\n",
       "        Tiempo Acumulado  \n",
       "Número                    \n",
       "0             186.779978  \n",
       "1             276.899441  \n",
       "2             353.497834  \n",
       "3             630.129469  \n",
       "4             861.714935  \n",
       "...                  ...  \n",
       "167         24486.352675  \n",
       "168         24581.388135  \n",
       "169         24681.465601  \n",
       "170         24776.454028  \n",
       "171         25079.437717  \n",
       "\n",
       "[172 rows x 6 columns]"
      ]
     },
     "execution_count": 186,
     "metadata": {},
     "output_type": "execute_result"
    }
   ],
   "source": [
    "def clientes():\n",
    "    \n",
    "    moh = np.random.uniform(size =10000) #10000 Simulaciones de dist. uniforme\n",
    "    data = pd.DataFrame() #Creación de df\n",
    "    data['Sexo'] = [1 if i<0.5 else 0 for i in moh] #Guardado de Género de Clientes, 1 mujer y 0 hombres.\n",
    "    data['Tiempo Atención'] = np.random.uniform(T_at_min, T_at_max, size=10000) #Guardado de tiempo en la cola.\n",
    "    #Guardado de tiempo de espera.\n",
    "    data['Tiempo Espera'] = [np.random.uniform(T_hombre_min, T_hombre_max) if i==0 else np.random.uniform(T_mujer_min, T_mujer_max) for i in data['Sexo']]\n",
    "    #Guardado de Gasto por género\n",
    "    data['Gasto'] = [np.random.uniform(C_hombre_min, C_hombre_max) if i==0 else np.random.uniform(C_mujer_min, C_mujer_max) for i in data['Sexo']] \n",
    "    #Guardado de tiempo en ser despechado\n",
    "    data['Tiempo Total'] = data['Tiempo Atención'] + data['Tiempo Espera'] #Tiempo total de atención\n",
    "    data['Tiempo Acumulado'] = data['Tiempo Total'].cumsum() #Tiempo acumulado, max=25,200s.\n",
    "    data = data[data['Tiempo Acumulado'] <= T]\n",
    "    data.index.name = 'Número' # # de clientes\n",
    "\n",
    "    return data\n",
    "\n",
    "ventas = {i:clientes() for i in range (d)}\n",
    "\n",
    "#ventas[0], #ventas[1], #ventas[2], #ventas[3] #Simulacion de días\n",
    "ventas[4] #Simulación de día 5."
   ]
  },
  {
   "cell_type": "markdown",
   "metadata": {},
   "source": [
    "#### 1. ¿Cuáles fueron los gastos de las mujeres y los hombres en 5 días de trabajo?"
   ]
  },
  {
   "cell_type": "code",
   "execution_count": 187,
   "metadata": {},
   "outputs": [
    {
     "name": "stdout",
     "output_type": "stream",
     "text": [
      "Las mujeres gastaron: 26570.18  y  los hombres gastaron: 22142.18 \n",
      "\n"
     ]
    }
   ],
   "source": [
    "Gastos_mujer = sum([ventas[i][ventas[i]['Sexo']==1]['Gasto'].sum() for i in range(d)])\n",
    "Gastos_hombre = sum([ventas[i][ventas[i]['Sexo']==0]['Gasto'].sum() for i in range(d)])\n",
    "print('Las mujeres gastaron:',Gastos_mujer.round(2),' y ','los hombres gastaron:', Gastos_hombre.round(2), '\\n',)"
   ]
  },
  {
   "cell_type": "markdown",
   "metadata": {},
   "source": [
    "#### 2. ¿Cuál fue el consumo promedio de las mujeres y los hombres?"
   ]
  },
  {
   "cell_type": "code",
   "execution_count": 188,
   "metadata": {},
   "outputs": [
    {
     "name": "stdout",
     "output_type": "stream",
     "text": [
      "El consumo promedio de las mujeres fue: 63.83  y  el de los hombres fue: 49.04 \n",
      "\n"
     ]
    }
   ],
   "source": [
    "promedio_mujer = np.mean([ventas[i][ventas[i]['Sexo']==1]['Gasto'].mean() for i in range(d)])\n",
    "promedio_hombre = np.mean([ventas[i][ventas[i]['Sexo']==0]['Gasto'].mean() for i in range(d)])\n",
    "print('El consumo promedio de las mujeres fue:',promedio_mujer.round(2),' y ','el de los hombres fue:', promedio_hombre.round(2), '\\n',)"
   ]
  },
  {
   "cell_type": "markdown",
   "metadata": {},
   "source": [
    "#### 3. ¿Cuál fue el número de personas atendidas por día?"
   ]
  },
  {
   "cell_type": "code",
   "execution_count": 189,
   "metadata": {},
   "outputs": [
    {
     "data": {
      "text/plain": [
       "[Int64Index([  0,   1,   2,   3,   4,   5,   6,   7,   8,   9,\n",
       "             ...\n",
       "             167, 168, 169, 170, 171, 172, 173, 174, 175, 176],\n",
       "            dtype='int64', name='Número', length=177),\n",
       " Int64Index([  0,   1,   2,   3,   4,   5,   6,   7,   8,   9,\n",
       "             ...\n",
       "             159, 160, 161, 162, 163, 164, 165, 166, 167, 168],\n",
       "            dtype='int64', name='Número', length=169),\n",
       " Int64Index([  0,   1,   2,   3,   4,   5,   6,   7,   8,   9,\n",
       "             ...\n",
       "             156, 157, 158, 159, 160, 161, 162, 163, 164, 165],\n",
       "            dtype='int64', name='Número', length=166),\n",
       " Int64Index([  0,   1,   2,   3,   4,   5,   6,   7,   8,   9,\n",
       "             ...\n",
       "             173, 174, 175, 176, 177, 178, 179, 180, 181, 182],\n",
       "            dtype='int64', name='Número', length=183),\n",
       " Int64Index([  0,   1,   2,   3,   4,   5,   6,   7,   8,   9,\n",
       "             ...\n",
       "             162, 163, 164, 165, 166, 167, 168, 169, 170, 171],\n",
       "            dtype='int64', name='Número', length=172)]"
      ]
     },
     "execution_count": 189,
     "metadata": {},
     "output_type": "execute_result"
    }
   ],
   "source": [
    "personas_promedio = ([ventas[i].index for i in range(d)])\n",
    "personas_promedio"
   ]
  },
  {
   "cell_type": "markdown",
   "metadata": {},
   "source": [
    "#### 4. ¿Cuál fue el tiempo de atención promedio?"
   ]
  },
  {
   "cell_type": "code",
   "execution_count": 190,
   "metadata": {},
   "outputs": [
    {
     "name": "stdout",
     "output_type": "stream",
     "text": [
      "El tiempo de atención promedio de las mujeres fue: 196.15 s y  el de los hombres fue: 98.22 s\n",
      "\n"
     ]
    }
   ],
   "source": [
    "tiempo_mujer = np.mean([ventas[i][ventas[i]['Sexo']==1]['Tiempo Total'].mean() for i in range(d)])\n",
    "tiempo_hombre = np.mean([ventas[i][ventas[i]['Sexo']==0]['Tiempo Total'].mean() for i in range(d)])\n",
    "print('El tiempo de atención promedio de las mujeres fue:',tiempo_mujer.round(2),'s y ','el de los hombres fue:', tiempo_hombre.round(2), 's\\n',)"
   ]
  },
  {
   "cell_type": "markdown",
   "metadata": {},
   "source": [
    "#### 5. ¿Cuánto fue la ganancia promedio de la cafetería en 5 días de trabajo y su respectiva rentabilidad?"
   ]
  },
  {
   "cell_type": "code",
   "execution_count": 191,
   "metadata": {},
   "outputs": [
    {
     "name": "stdout",
     "output_type": "stream",
     "text": [
      "La ganancia de la cafeteria fue de: 29227.41 mxn en 5 días de trabajo.\n",
      "\n"
     ]
    }
   ],
   "source": [
    "dia_mujer = ([ventas[i][ventas[i]['Sexo']==1]['Gasto'].sum() for i in range(d)])\n",
    "dia_hombre = ([ventas[i][ventas[i]['Sexo']==0]['Gasto'].sum() for i in range(d)])\n",
    "#dia_mujer,dia_hombre\n",
    "print('La ganancia de la cafeteria fue de:',((Gastos_mujer+Gastos_hombre)*.60).round(2),'mxn en 5 días de trabajo.\\n',)"
   ]
  }
 ],
 "metadata": {
  "kernelspec": {
   "display_name": "Python 3",
   "language": "python",
   "name": "python3"
  },
  "language_info": {
   "codemirror_mode": {
    "name": "ipython",
    "version": 3
   },
   "file_extension": ".py",
   "mimetype": "text/x-python",
   "name": "python",
   "nbconvert_exporter": "python",
   "pygments_lexer": "ipython3",
   "version": "3.8.8"
  }
 },
 "nbformat": 4,
 "nbformat_minor": 2
}
