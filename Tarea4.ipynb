{
 "cells": [
  {
   "cell_type": "markdown",
   "metadata": {},
   "source": [
    "<img style=\"float: left; margin: 30px 15px 15px 15px;\" src=\"https://pngimage.net/wp-content/uploads/2018/06/logo-iteso-png-5.png\" width=\"300\" height=\"500\" /> \n",
    "    \n",
    "    \n",
    "### <font color='navy'> Simulación de procesos financieros. \n",
    "\n",
    "**Nombres:** Iván Arellano y Esteban Marquez\n",
    "\n",
    "**Fecha:** 17 de septiembre del 2021.\n",
    "\n",
    "**Expediente** : 714383 , 700637 .\n",
    "**Profesor:** Oscar David Jaramillo Zuluaga.\n",
    "    \n",
    "**Link Github**: https://github.com/IvanArellanoRuelas/SPF_Tarea4_Arellano_Marquez\n",
    "\n",
    "# Tarea 4: Clase 7"
   ]
  },
  {
   "cell_type": "markdown",
   "metadata": {},
   "source": [
    "# 1\n",
    "Como ejemplo simple de una simulación de Monte Carlo, considere calcular la probabilidad de una suma particular del lanzamiento de tres dados (cada dado tiene valores del uno al seis). Además cada dado tiene las siguientes carácterísticas: el primer dado no está cargado (distribución uniforme todos son equiprobables); el segundo y tercer dado están cargados basados en una distribución binomial con parámetros (`n=5, p=0.5` y `n=5, p=0.2`). Calcule la probabilidad de que la suma resultante sea 7, 14 o 18. ### Ejercicio 1: (enunciado) Transcribirlo"
   ]
  },
  {
   "cell_type": "code",
   "execution_count": 1,
   "metadata": {},
   "outputs": [],
   "source": [
    "# Importación de paquetes\n",
    "import numpy as np\n",
    "import matplotlib.pyplot as plt\n",
    "import pandas as pd\n",
    "import os\n",
    "import scipy.stats as st"
   ]
  },
  {
   "cell_type": "markdown",
   "metadata": {},
   "source": [
    "Código de solución estudiante 1 Iván "
   ]
  },
  {
   "cell_type": "code",
   "execution_count": 2,
   "metadata": {},
   "outputs": [],
   "source": [
    "np.random.seed(44)\n",
    "n = 1000000\n",
    "dado_no_cargado = np.random.randint(1,7,n)\n",
    "dado_cargado_1 = st.binom(n=5 , p=0.5 , loc=1).rvs(size=n)\n",
    "dado_cargado_2 = st.binom(n=5 , p=0.2 , loc=1).rvs(size=n)\n",
    "suma = dado_no_cargado + dado_cargado_1 + dado_cargado_2\n"
   ]
  },
  {
   "cell_type": "code",
   "execution_count": 3,
   "metadata": {},
   "outputs": [
    {
     "data": {
      "text/plain": [
       "[0.126805, 0.013711, 4e-06]"
      ]
     },
     "execution_count": 3,
     "metadata": {},
     "output_type": "execute_result"
    }
   ],
   "source": [
    "resultante = [7,14,18]\n",
    "[len(suma[suma == i])/len(suma) for i in resultante]"
   ]
  },
  {
   "cell_type": "code",
   "execution_count": null,
   "metadata": {},
   "outputs": [],
   "source": []
  },
  {
   "cell_type": "markdown",
   "metadata": {},
   "source": [
    "Código de solución estudiante 2 Esteban"
   ]
  },
  {
   "cell_type": "code",
   "execution_count": 12,
   "metadata": {},
   "outputs": [
    {
     "data": {
      "text/plain": [
       "[0.127032, 0.013544, 1e-06]"
      ]
     },
     "execution_count": 12,
     "metadata": {},
     "output_type": "execute_result"
    }
   ],
   "source": [
    "# Solución\n",
    "np.random.seed(500) #semilla para fijar valores aleatorios\n",
    "#random.uniform(low=0.0, high=1.0, size=None)\n",
    "\n",
    "dice1 = dice1=np.random.randint(low=1, high=7, size=1000000)\n",
    "dice2 = st.binom(5, 0.5, loc = 1).rvs(size = 1000000) \n",
    "dice3 = st.binom(5, 0.2, loc = 1).rvs(size = 1000000) #Todos deben tener el mismo # de simulaciones\n",
    "\n",
    "suma = dice1+dice2+dice3\n",
    "(len(suma[suma == 7])/len(suma)),(len(suma[suma == 14])/len(suma)),(len(suma[suma == 18])/len(suma))\n",
    "#ineficiente\n",
    "x = [len(suma[suma == x])/len(suma) for x in [7,14,18]]\n",
    "x #compresión de listas"
   ]
  },
  {
   "cell_type": "markdown",
   "metadata": {},
   "source": [
    "# 2 Ejercicio de aplicación- Cafetería Central\n",
    "\n",
    "Premisas para la simulación:\n",
    "- Negocio de alimentos que vende bebidas y alimentos.\n",
    "- Negocio dentro del ITESO.\n",
    "- Negocio en cafetería central.\n",
    "- Tipo de clientes (hombres y mujeres).\n",
    "- Rentabilidad del 60%.\n",
    "\n",
    "## Objetivo\n",
    "Realizar una simulación estimando el tiempo medio que se tardaran los clientes en ser atendidos entre el horario de 6:30 a 1 pm. Además saber el consumo. \n",
    "**Analizar supuestos y limitantes**"
   ]
  },
  {
   "cell_type": "markdown",
   "metadata": {},
   "source": [
    "## Supuestos en simulación\n",
    "Clasificación de clientes: \n",
    "- Mujer  = 1 $\\longrightarrow$ aleatorio < 0.5\n",
    "- Hombre = 0 $\\longrightarrow$ aleatorio $\\geq$ 0.5.\n",
    "\n",
    "Condiciones iniciales:\n",
    "- Todas las distrubuciones de probabilidad se supondrán uniformes.\n",
    "- Tiempo de simulación: 6:30 am - 1:30pm $\\longrightarrow$ T = 7 horas = 25200 seg.\n",
    "- Tiempo de llegada hasta ser atendido: Min=5seg, Max=30seg.\n",
    "- Tiempo que tardan los clientes en ser atendidos:\n",
    "    - Mujer: Min = 1 min= 60seg, Max = 5 min = 300 seg\n",
    "    - Hombre: Min = 40 seg, Max = 2 min= 120 seg\n",
    "- Consumo según el tipo de cliente:\n",
    "    - Mujer: Min = 30 pesos, Max = 100 pesos\n",
    "    - Hombre: Min = 20 pesos, Max = 80 pesos\n",
    "\n",
    "Responder las siguientes preguntas basados en los datos del problema:\n",
    "1. ¿Cuáles fueron los gastos de los hombres y las mujeres en 5 días de trabajo?.\n",
    "2. ¿Cuál fue el consumo promedio de los hombres y mujeres?\n",
    "3. ¿Cuál fue el número de personas atendidas por día?\n",
    "4. ¿Cuál fue el tiempo de atención promedio?\n",
    "5. ¿Cuánto fue la ganancia promedio de la cafetería en 5 días de trabajo y su respectiva rentabilidad?"
   ]
  },
  {
   "cell_type": "code",
   "execution_count": 4,
   "metadata": {},
   "outputs": [],
   "source": [
    "################## Datos del problema\n",
    "d = 5\n",
    "T =25200\n",
    "T_at_min = 5; T_at_max = 30\n",
    "T_mujer_min =60; T_mujer_max = 300\n",
    "T_hombre_min = 40; T_hombre_max = 120\n",
    "C_mujer_min = 30; C_mujer_max = 100\n",
    "C_hombre_min = 20; C_hombre_max = 80\n"
   ]
  },
  {
   "cell_type": "markdown",
   "metadata": {},
   "source": [
    "Código Estudiante 1 Iván"
   ]
  },
  {
   "cell_type": "code",
   "execution_count": 36,
   "metadata": {},
   "outputs": [
    {
     "name": "stdout",
     "output_type": "stream",
     "text": [
      "Simulación tiempo atención: 5.283405536230907 \n",
      " Simulación tiempo Hombres: 65.71830691305988 \n",
      " Simulación tiempo Mujeres: 189.26837183868759 \n",
      " Simulación consumo Hombres: 44.480012785132104 \n",
      " Simulación consumo Mujeres: 91.21142675494733\n"
     ]
    }
   ],
   "source": [
    "#Simulaciones\n",
    "\n",
    "sim_t_aten = np.random.uniform(T_at_min,T_at_max)\n",
    "sim_t_hombre = np.random.uniform(T_hombre_min,T_hombre_max)\n",
    "sim_t_mujer = np.random.uniform(T_mujer_min,T_mujer_max)\n",
    "sim_c_hombre = np.random.uniform(C_hombre_min,C_hombre_max)\n",
    "sim_c_mujer = np.random.uniform(C_mujer_min,C_mujer_max)\n",
    "print('Simulación tiempo atención:',sim_t_aten,'\\n',\n",
    "      'Simulación tiempo Hombres:', sim_t_hombre,'\\n',\n",
    "      'Simulación tiempo Mujeres:',sim_t_mujer,'\\n',\n",
    "      'Simulación consumo Hombres:',sim_c_hombre,'\\n',\n",
    "      'Simulación consumo Mujeres:',sim_c_mujer)\n"
   ]
  },
  {
   "cell_type": "code",
   "execution_count": 26,
   "metadata": {},
   "outputs": [
    {
     "data": {
      "text/plain": [
       "((55.3339656397007, 34.45845830373332),\n",
       " (202.45431662729942, 31.592469032736307))"
      ]
     },
     "execution_count": 26,
     "metadata": {},
     "output_type": "execute_result"
    }
   ],
   "source": [
    "hombres = sim_t_hombre + sim_t_aten,sim_c_hombre\n",
    "mujeres = sim_t_mujer +  sim_t_aten,sim_c_mujer\n",
    "hombres , mujeres"
   ]
  },
  {
   "cell_type": "code",
   "execution_count": 51,
   "metadata": {},
   "outputs": [],
   "source": [
    "Consumo_H = []\n",
    "Consumo_M = []\n",
    "contador = 0\n",
    "Personas = []\n",
    "for i in range(d):\n",
    "    t_total = 0\n",
    "    contador = 0 \n",
    "    while t_total < T:\n",
    "        H_M = np.random.rand()\n",
    "        if H_M >= 0.5:\n",
    "            tiem = [np.random.uniform(T_hombre_min,T_hombre_max) + np.random.uniform(T_at_min,T_at_max) ,\n",
    "            np.random.uniform(C_hombre_min,C_hombre_max)]\n",
    "            h = Consumo_H.append(tiem[1])\n",
    "        else: \n",
    "            tiem = [np.random.uniform(T_mujer_min,T_mujer_max) + np.random.uniform(T_at_min,T_at_max), \n",
    "            np.random.uniform(C_mujer_min,C_mujer_max)]\n",
    "            m = Consumo_M.append(tiem[1])\n",
    "            \n",
    "        contador += 1\n",
    "        t_total += tiem[0]\n",
    "    Personas.append(contador)\n",
    "        "
   ]
  },
  {
   "cell_type": "code",
   "execution_count": 54,
   "metadata": {},
   "outputs": [
    {
     "data": {
      "text/plain": [
       "(22162.993276627632,\n",
       " 28259.074139690914,\n",
       " 49.91665152393611,\n",
       " 66.49193915221392,\n",
       " [172, 169, 179, 173, 176],\n",
       " 145.53739343071533,\n",
       " 30253.240449791127)"
      ]
     },
     "execution_count": 54,
     "metadata": {},
     "output_type": "execute_result"
    }
   ],
   "source": [
    "np.array(Consumo_H).sum() , np.array(Consumo_M).sum() , np.array(Consumo_H).mean() , np.array(Consumo_M).mean() , Personas , (np.array(t_total)/np.array(Personas)).mean() , np.array(Consumo_H).sum()*.60 + np.array(Consumo_M).sum()*.60"
   ]
  },
  {
   "cell_type": "markdown",
   "metadata": {},
   "source": [
    "### Intentando la programación optima "
   ]
  },
  {
   "cell_type": "code",
   "execution_count": 55,
   "metadata": {},
   "outputs": [],
   "source": [
    "def tiemH ():\n",
    "    \"\"\"\n",
    "    Con esta función intento acelerar el calculo \n",
    "    para la simulación del tiempo y consumo del hombre \n",
    "    \"\"\"\n",
    "    return [np.random.uniform(T_hombre_min,T_hombre_max) + np.random.uniform(T_at_min,T_at_max),\n",
    "            np.random.uniform(C_hombre_min,C_hombre_max)]\n",
    "def tiemM():\n",
    "    \"\"\"\n",
    "    Con esta función intento acelerar el calculo \n",
    "    para la simulación del tiempo y consumo de la mujer \n",
    "    \"\"\"\n",
    "    return [np.random.uniform(T_mujer_min,T_mujer_max) + np.random.uniform(T_at_min,T_at_max), \n",
    "            np.random.uniform(C_mujer_min,C_mujer_max)]"
   ]
  },
  {
   "cell_type": "code",
   "execution_count": 56,
   "metadata": {},
   "outputs": [],
   "source": [
    "Consumo_H = []\n",
    "Consumo_M = []\n",
    "contador = 0\n",
    "Personas = []\n",
    "for i in range(d):\n",
    "    t_total = 0\n",
    "    contador = 0 \n",
    "    while t_total < T:\n",
    "        H_M = np.random.rand()\n",
    "        if H_M >= 0.5:\n",
    "            tiem = tiemH()\n",
    "            h = Consumo_H.append(tiem[1])\n",
    "        else: \n",
    "            tiem = tiemM()\n",
    "            m = Consumo_M.append(tiem[1])\n",
    "            \n",
    "        contador += 1\n",
    "        t_total += tiem[0]\n",
    "    Personas.append(contador)\n",
    "        "
   ]
  },
  {
   "cell_type": "code",
   "execution_count": 57,
   "metadata": {},
   "outputs": [
    {
     "data": {
      "text/plain": [
       "(20116.710525699364,\n",
       " 28484.89979391758,\n",
       " 49.548548092855576,\n",
       " 65.4825282618795,\n",
       " [172, 168, 170, 159, 172],\n",
       " 150.59105671792108,\n",
       " 29160.966191770163)"
      ]
     },
     "execution_count": 57,
     "metadata": {},
     "output_type": "execute_result"
    }
   ],
   "source": [
    "np.array(Consumo_H).sum() , np.array(Consumo_M).sum() , np.array(Consumo_H).mean() , np.array(Consumo_M).mean() , Personas , (np.array(t_total)/np.array(Personas)).mean() , np.array(Consumo_H).sum()*.60 + np.array(Consumo_M).sum()*.60"
   ]
  },
  {
   "cell_type": "markdown",
   "metadata": {},
   "source": [
    "#### Resultados: \n",
    "1. ¿Cuáles fueron los gastos de los hombres y las mujeres en 5 días de trabajo?.\n",
    "2. ¿Cuál fue el consumo promedio de los hombres y mujeres?\n",
    "3. ¿Cuál fue el número de personas atendidas por día?\n",
    "4. ¿Cuál fue el tiempo de atención promedio?\n",
    "5. ¿Cuánto fue la ganancia promedio de la cafetería en 5 días de trabajo y su respectiva rentabilidad?"
   ]
  },
  {
   "cell_type": "code",
   "execution_count": 63,
   "metadata": {},
   "outputs": [
    {
     "name": "stdout",
     "output_type": "stream",
     "text": [
      " 1) Los gastos el hombre: 20116.710525699364  &  Los gastos de la mujer: 28484.89979391758 \n",
      " 2) Consumo promedio Hombre: 49.548548092855576 & Consumo Promedio Mujer: 65.4825282618795 \n",
      " 3) Numero de personas por día: [172, 168, 170, 159, 172] \n",
      " 4) Tiempo promedio de atención: 150.59105671792108 \n",
      " 5 Ganancias promedio de la cafeteria en 5 días: 29160.966191770163\n"
     ]
    }
   ],
   "source": [
    "print(' 1) Los gastos el hombre:',np.array(Consumo_H).sum(),' & ','Los gastos de la mujer:', np.array(Consumo_M).sum(), '\\n',\n",
    "      '2) Consumo promedio Hombre:',np.array(Consumo_H).mean(),'&','Consumo Promedio Mujer:',np.array(Consumo_M).mean(),'\\n',\n",
    "      '3) Numero de personas por día:', Personas,'\\n',\n",
    "      '4) Tiempo promedio de atención:',(np.array(t_total)/np.array(Personas)).mean(),'\\n',\n",
    "      '5 Ganancias promedio de la cafeteria en 5 días:',np.array(Consumo_H).sum()*.60 + np.array(Consumo_M).sum()*.60 )"
   ]
  },
  {
   "cell_type": "markdown",
   "metadata": {},
   "source": [
    "Codigo Estudiante 2 Esteban"
   ]
  },
  {
   "cell_type": "code",
   "execution_count": 15,
   "metadata": {},
   "outputs": [],
   "source": [
    "np.random.seed(500) #semilla para fijar valores aleatorios\n",
    "moh = np.random.uniform(size =1000000)\n",
    "#n = ['0' if moh>=0.5 else '1']\n",
    "#n"
   ]
  },
  {
   "cell_type": "code",
   "execution_count": null,
   "metadata": {},
   "outputs": [],
   "source": []
  },
  {
   "cell_type": "code",
   "execution_count": null,
   "metadata": {},
   "outputs": [],
   "source": []
  },
  {
   "cell_type": "code",
   "execution_count": null,
   "metadata": {},
   "outputs": [],
   "source": []
  }
 ],
 "metadata": {
  "kernelspec": {
   "display_name": "Python 3",
   "language": "python",
   "name": "python3"
  },
  "language_info": {
   "codemirror_mode": {
    "name": "ipython",
    "version": 3
   },
   "file_extension": ".py",
   "mimetype": "text/x-python",
   "name": "python",
   "nbconvert_exporter": "python",
   "pygments_lexer": "ipython3",
   "version": "3.8.3"
  }
 },
 "nbformat": 4,
 "nbformat_minor": 2
}
