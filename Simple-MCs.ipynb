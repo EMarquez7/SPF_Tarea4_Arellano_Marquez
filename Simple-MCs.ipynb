{
 "cells": [
  {
   "attachments": {},
   "cell_type": "markdown",
   "metadata": {},
   "source": [
    "<font color= 'orange'>MonteCarlo-Simple-Exercises</font>\n",
    "\n",
    "[![MonteCarlo-Simple-Ex](https://img.shields.io/badge/MC_Simple_Ex.-README.md-black?style=square&logo=github&logoColor=black)](https://github.com/EstebanMqz/MonteCarlo-Simple-Ex)"
   ]
  },
  {
   "attachments": {},
   "cell_type": "markdown",
   "metadata": {},
   "source": [
    "1. As a simple example of a **Monte Carlo** simulation, consider finding the probability of a particular sum of rolling three dices (each dice has values ​​from one to six).<br>\n",
    "In addition, each dice has the following characteristics: the first dice is not loaded (uniform distribution, all are equiprobable);<br>\n",
    "the second and third dice are loaded based on a binomial distribution with parameters (`n=5, p=0.5` and `n=5, p=0.2`).<br>\n",
    "Find the probability that the resulting sum is 7, 14, or 18."
   ]
  },
  {
   "cell_type": "code",
   "execution_count": null,
   "metadata": {},
   "outputs": [],
   "source": [
    "# Package import\n",
    "import numpy as np\n",
    "import pandas as pd\n",
    "import scipy.stats as st\n",
    "import matplotlib.pyplot as plt"
   ]
  },
  {
   "attachments": {},
   "cell_type": "markdown",
   "metadata": {},
   "source": [
    "#### <span style='color:lightbrown'> 1. Ivan Arellano Ruelas </span><br> "
   ]
  },
  {
   "cell_type": "code",
   "execution_count": 2,
   "metadata": {},
   "outputs": [
    {
     "data": {
      "text/plain": [
       "[0.126805, 0.013711, 4e-06]"
      ]
     },
     "execution_count": 2,
     "metadata": {},
     "output_type": "execute_result"
    }
   ],
   "source": [
    "#Solution code of Ivan.\n",
    "np.random.seed(44)\n",
    "n = 1000000\n",
    "unloaded_dice = np.random.randint(1,7,n)\n",
    "loaded_dice1 = st.binom(n=5 , p=0.5 , loc=1).rvs(size=n)\n",
    "loaded_dice2 = st.binom(n=5 , p=0.2 , loc=1).rvs(size=n)\n",
    "sum = unloaded_dice + loaded_dice1 + loaded_dice2\n",
    "\n",
    "result = [7,14,18]\n",
    "[len(sum[sum == i])/len(sum) for i in result]\n",
    "      "
   ]
  },
  {
   "attachments": {},
   "cell_type": "markdown",
   "metadata": {},
   "source": [
    "##### <span style='color:lightblue'> 1. EstebanMqz </span><br> "
   ]
  },
  {
   "cell_type": "code",
   "execution_count": 3,
   "metadata": {},
   "outputs": [
    {
     "name": "stdout",
     "output_type": "stream",
     "text": [
      "The probability of obtaining a sum of 7,14 and 18 in the throw of 3 dice is: [0.126805, 0.013711, 4e-06] for each sum respectively.\n"
     ]
    },
    {
     "data": {
      "image/png": "[encoded data removed]",
      "text/plain": [
       "<Figure size 432x288 with 1 Axes>"
      ]
     },
     "metadata": {
      "needs_background": "light"
     },
     "output_type": "display_data"
    }
   ],
   "source": [
    "#Solution code of Esteban.\n",
    "np.random.seed(500) #random values set\n",
    "\n",
    "dice1 = dice1=np.random.randint(low=1, high=7, size=1000000) #Random distribution for discrete values.\n",
    "dice2 = st.binom(5, 0.5, loc = 1).rvs(size = 1000000) #Binomial distribution, size = # of simulations.\n",
    "dice3 = st.binom(5, 0.2, loc = 1).rvs(size = 1000000) #Same size 0f experiments.\n",
    "\n",
    "#List Compression\n",
    "x = [len(sum[sum == x])/len(sum) for x in [7,14,18]]\n",
    "print('The probability of obtaining a sum of 7,14 and 18 in the throw of 3 dice is:',\n",
    "        x, 'for each sum respectively.')\n",
    "\n",
    "plt.bar([7,14,18], x)\n",
    "plt.xlabel('Sum of 3 provided dices')\n",
    "plt.ylabel('Probability')\n",
    "plt.show()"
   ]
  },
  {
   "attachments": {},
   "cell_type": "markdown",
   "metadata": {},
   "source": [
    "2. **Simulation**<br>\n",
    "\n",
    "**Premises for the simulation**:\n",
    "- Food business that sells drinks and food.\n",
    "- Business.\n",
    "- Business in central cafe.\n",
    "- Type of clients (men & women).\n",
    "- Profitability of 60%.\n",
    "\n",
    "**Aim**: <br>\n",
    "Carry out a simulation estimating the average time it will take customers to be served between the hours of 6:30 a.m. and 1 p.m. <br> \n",
    "**Determine consumption** (*Analyze assumptions and limitations*).\n",
    "\n",
    "Customer Classification:\n",
    "- Female = 1 random $\\longrightarrow$ < 0.5\n",
    "- Male = 0 $\\longrightarrow$ random $\\geq$ 0.5.\n",
    "\n",
    "Initial conditions:\n",
    "- All probability distributions will be assumed to be *uniform*.\n",
    "- Simulation time: 6:30 am - 1:30 pm $\\longrightarrow$ T = 7 hours = 25200 sec.\n",
    "- Arrival time until being attended: Min=5sec, Max=30sec.\n",
    "- Time it takes customers to be served:\n",
    "    - Woman: Min = 1 min = 60 sec, Max = 5 min = 300 sec\n",
    "    - Man: Min = 40 sec, Max = 2 min= 120 sec\n",
    "- Consumption according to the type of client:\n",
    "    - Woman: Min = 30 pesos, Max = 100 pesos\n",
    "    - Man: Min = 20 pesos, Max = 80 pesos\n",
    "\n",
    "#### Answer the following questions based on the data from the problem:\n",
    "1. What were the **expenses** of men and women in 5 days of work?\n",
    "2. What was the **average consumption** of men and women?\n",
    "3. What was the number of **people served** per day?\n",
    "4. What was the average **service time**?\n",
    "5. How much was the average **profit** of the cafeteria in 5 days of work and its respective profitability?"
   ]
  },
  {
   "cell_type": "code",
   "execution_count": 4,
   "metadata": {},
   "outputs": [],
   "source": [
    "#Data\n",
    "d = 5\n",
    "T =25200\n",
    "T_at_min = 5; T_at_max = 30\n",
    "T_woman_min =60; T_woman_max = 300\n",
    "T_man_min = 40; T_man_max = 120\n",
    "C_woman_min = 30; C_woman_max = 100\n",
    "C_man_min = 20; C_man_max = 80\n"
   ]
  },
  {
   "attachments": {},
   "cell_type": "markdown",
   "metadata": {},
   "source": [
    "#### <span style='color:lightbrown'> 2. Ivan Arellano Ruelas </span><br> "
   ]
  },
  {
   "cell_type": "code",
   "execution_count": 5,
   "metadata": {},
   "outputs": [
    {
     "name": "stdout",
     "output_type": "stream",
     "text": [
      "Attention time simulation: 7.039071991167438 \n",
      " Simulation of Men time: 76.24782160857893 \n",
      " Simulation of Women time: 98.15699379842069 \n",
      " Men consumption simulation: 78.37118982825598 \n",
      " Women consumption simulation: 40.15648138753554\n"
     ]
    }
   ],
   "source": [
    "#Simulations\n",
    "\n",
    "sim_t_aten = np.random.uniform(T_at_min,T_at_max)\n",
    "sim_t_man = np.random.uniform(T_man_min,T_man_max)\n",
    "sim_t_woman = np.random.uniform(T_woman_min,T_woman_max)\n",
    "sim_c_man = np.random.uniform(C_man_min,C_man_max)\n",
    "sim_c_woman = np.random.uniform(C_woman_min,C_woman_max)\n",
    "print('Attention time simulation:',sim_t_aten,'\\n',\n",
    "      'Simulation of Men time:', sim_t_man,'\\n',\n",
    "      'Simulation of Women time:',sim_t_woman,'\\n',\n",
    "      'Men consumption simulation:',sim_c_man,'\\n',\n",
    "      'Women consumption simulation:',sim_c_woman)"
   ]
  },
  {
   "cell_type": "code",
   "execution_count": 6,
   "metadata": {},
   "outputs": [
    {
     "data": {
      "text/plain": [
       "((83.28689359974636, 78.37118982825598),\n",
       " (105.19606578958812, 40.15648138753554))"
      ]
     },
     "execution_count": 6,
     "metadata": {},
     "output_type": "execute_result"
    }
   ],
   "source": [
    "hombres = sim_t_man + sim_t_aten,sim_c_man\n",
    "mujeres = sim_t_woman +  sim_t_aten,sim_c_woman\n",
    "hombres , mujeres"
   ]
  },
  {
   "cell_type": "code",
   "execution_count": 7,
   "metadata": {},
   "outputs": [],
   "source": [
    "Consumption_H = []\n",
    "Consumption_M = []\n",
    "counter = 0\n",
    "People = []\n",
    "for i in range(d):\n",
    "    t_total = 0\n",
    "    counter = 0\n",
    "    while t_total < T:\n",
    "        H_M = np.random.rand()\n",
    "        if H_M >= 0.5:\n",
    "            time = [np.random.uniform(T_man_min,T_man_max) + np.random.uniform(T_at_min,T_at_max) ,\n",
    "            np.random.uniform(C_man_min,C_man_max)]\n",
    "            h = Consumption_H.append(time[1])\n",
    "        else:\n",
    "            time = [np.random.uniform(T_woman_min,T_woman_max) + np.random.uniform(T_at_min,T_at_max),\n",
    "            np.random.uniform(C_woman_min,C_woman_max)]\n",
    "            m = Consumption_M.append(time[1])\n",
    "            \n",
    "        counter += 1\n",
    "        t_total += time[0]\n",
    "    People.append(counter)\n",
    "        "
   ]
  },
  {
   "cell_type": "code",
   "execution_count": 8,
   "metadata": {},
   "outputs": [
    {
     "data": {
      "text/plain": [
       "(20942.931994734143,\n",
       " 28958.570925575146,\n",
       " 49.86412379698606,\n",
       " 49.86412379698606,\n",
       " [177, 165, 190, 166, 159],\n",
       " 147.6099161430545,\n",
       " 29940.90175218557)"
      ]
     },
     "execution_count": 8,
     "metadata": {},
     "output_type": "execute_result"
    }
   ],
   "source": [
    "np.array(Consumption_H).sum(), np.array(Consumption_M).sum(),np.array(Consumption_H).mean(), np.array(Consumption_H).mean(),People, (np.array(t_total)/np.array(People)).mean(),np.array(Consumption_H).sum()*.60 + np.array(Consumption_M).sum()*.60"
   ]
  },
  {
   "attachments": {},
   "cell_type": "markdown",
   "metadata": {},
   "source": [
    "#### *Optimal programming*"
   ]
  },
  {
   "cell_type": "code",
   "execution_count": 9,
   "metadata": {},
   "outputs": [],
   "source": [
    "def timeH():\n",
    "    \"\"\"\n",
    "    With this function I try to speed up the calculation\n",
    "    for the simulation of time and human consumption\n",
    "    \"\"\"\n",
    "    return [np.random.uniform(T_man_min,T_man_max) + np.random.uniform(T_at_min,T_at_max),\n",
    "            np.random.uniform(C_man_min,C_man_max)]\n",
    "def timeM():\n",
    "    \"\"\"\n",
    "    With this function I try to speed up the calculation\n",
    "    for the simulation of time and consumption of women\n",
    "    \"\"\"\n",
    "    return [np.random.uniform(T_woman_min,T_woman_max) + np.random.uniform(T_at_min,T_at_max),\n",
    "            np.random.uniform(C_woman_min,C_woman_max)]"
   ]
  },
  {
   "cell_type": "code",
   "execution_count": 10,
   "metadata": {},
   "outputs": [],
   "source": [
    "Consumption_H = []\n",
    "Consumption_M = []\n",
    "counter = 0\n",
    "People = []\n",
    "for i in range(d):\n",
    "    t_total = 0\n",
    "    counter = 0 \n",
    "    while t_total < T:\n",
    "        H_M = np.random.rand()\n",
    "        if H_M >= 0.5:\n",
    "            tiem = timeH()\n",
    "            h = Consumption_H.append(time[1])\n",
    "        else: \n",
    "            tiem = timeM()\n",
    "            m = Consumption_M.append(time[1])\n",
    "            \n",
    "        counter += 1\n",
    "        t_total += tiem[0]\n",
    "    People.append(counter)\n",
    "        "
   ]
  },
  {
   "cell_type": "code",
   "execution_count": 11,
   "metadata": {},
   "outputs": [
    {
     "data": {
      "text/plain": [
       "(19515.32111392441,\n",
       " 17044.497196067023,\n",
       " 41.878371489108176,\n",
       " 41.87837148910816,\n",
       " [171, 183, 179, 170, 170],\n",
       " 145.8571735531346,\n",
       " 21935.890985994858)"
      ]
     },
     "execution_count": 11,
     "metadata": {},
     "output_type": "execute_result"
    }
   ],
   "source": [
    "np.array(Consumption_H).sum() , np.array(Consumption_M).sum() , np.array(Consumption_H).mean() , np.array(Consumption_M).mean() , People , (np.array(t_total)/np.array(People)).mean() , np.array(Consumption_H).sum()*.60 + np.array(Consumption_M).sum()*.60"
   ]
  },
  {
   "cell_type": "code",
   "execution_count": 12,
   "metadata": {},
   "outputs": [
    {
     "name": "stdout",
     "output_type": "stream",
     "text": [
      " 1) Men expenses: 19515.32111392441  &  Women expenses: 17044.497196067023 \n",
      "  2) Average Male Consumption: 41.878371489108176 & Average Female Consumption: 41.87837148910816 \n",
      " 3) Number of people per day: [171, 183, 179, 170, 170] \n",
      " 4) Average attention time: 145.8571735531346 \n",
      " 5 Average Earnings of the Cafe in 5 days: 21935.890985994858\n"
     ]
    }
   ],
   "source": [
    "print(' 1) Men expenses:',np.array(Consumption_H).sum(),' & ','Women expenses:', np.array(Consumption_M).sum(), '\\n ',\n",
    "      '2) Average Male Consumption:',np.array(Consumption_H).mean(),'&','Average Female Consumption:',np.array(Consumption_M).mean(),'\\n',\n",
    "      '3) Number of people per day:', People,'\\n',\n",
    "      '4) Average attention time:',(np.array(t_total)/np.array(People)).mean(),'\\n',\n",
    "      '5 Average Earnings of the Cafe in 5 days:',np.array(Consumption_H).sum()*.60 + np.array(Consumption_M).sum()*.60 )"
   ]
  },
  {
   "attachments": {},
   "cell_type": "markdown",
   "metadata": {},
   "source": [
    "##### <span style='color:lightblue'> 2. EstebanMqz </span><br> "
   ]
  },
  {
   "attachments": {},
   "cell_type": "markdown",
   "metadata": {},
   "source": [
    "#### Customer Simulations: Day 1-5\n",
    "We simulate customers in the cafeteria for 5 days."
   ]
  },
  {
   "cell_type": "code",
   "execution_count": 13,
   "metadata": {},
   "outputs": [
    {
     "data": {
      "text/html": [
       "<div>\n",
       "<style scoped>\n",
       "    .dataframe tbody tr th:only-of-type {\n",
       "        vertical-align: middle;\n",
       "    }\n",
       "\n",
       "    .dataframe tbody tr th {\n",
       "        vertical-align: top;\n",
       "    }\n",
       "\n",
       "    .dataframe thead th {\n",
       "        text-align: right;\n",
       "    }\n",
       "</style>\n",
       "<table border=\"1\" class=\"dataframe\">\n",
       "  <thead>\n",
       "    <tr style=\"text-align: right;\">\n",
       "      <th></th>\n",
       "      <th>Gender</th>\n",
       "      <th>Attention_Time</th>\n",
       "      <th>Wait_Time</th>\n",
       "      <th>Expenses</th>\n",
       "      <th>Total_Time</th>\n",
       "      <th>Accumulated_Time</th>\n",
       "    </tr>\n",
       "    <tr>\n",
       "      <th>Day</th>\n",
       "      <th></th>\n",
       "      <th></th>\n",
       "      <th></th>\n",
       "      <th></th>\n",
       "      <th></th>\n",
       "      <th></th>\n",
       "    </tr>\n",
       "  </thead>\n",
       "  <tbody>\n",
       "    <tr>\n",
       "      <th>0</th>\n",
       "      <td>0</td>\n",
       "      <td>24.163999</td>\n",
       "      <td>48.679821</td>\n",
       "      <td>48.038901</td>\n",
       "      <td>72.843820</td>\n",
       "      <td>72.843820</td>\n",
       "    </tr>\n",
       "    <tr>\n",
       "      <th>0</th>\n",
       "      <td>0</td>\n",
       "      <td>19.736126</td>\n",
       "      <td>82.637016</td>\n",
       "      <td>37.277765</td>\n",
       "      <td>102.373142</td>\n",
       "      <td>175.216962</td>\n",
       "    </tr>\n",
       "    <tr>\n",
       "      <th>0</th>\n",
       "      <td>0</td>\n",
       "      <td>16.957124</td>\n",
       "      <td>112.643482</td>\n",
       "      <td>26.457310</td>\n",
       "      <td>129.600606</td>\n",
       "      <td>304.817568</td>\n",
       "    </tr>\n",
       "    <tr>\n",
       "      <th>0</th>\n",
       "      <td>1</td>\n",
       "      <td>17.479166</td>\n",
       "      <td>231.885848</td>\n",
       "      <td>89.782618</td>\n",
       "      <td>249.365014</td>\n",
       "      <td>554.182581</td>\n",
       "    </tr>\n",
       "    <tr>\n",
       "      <th>0</th>\n",
       "      <td>1</td>\n",
       "      <td>15.815147</td>\n",
       "      <td>138.121667</td>\n",
       "      <td>91.019217</td>\n",
       "      <td>153.936814</td>\n",
       "      <td>708.119395</td>\n",
       "    </tr>\n",
       "    <tr>\n",
       "      <th>...</th>\n",
       "      <td>...</td>\n",
       "      <td>...</td>\n",
       "      <td>...</td>\n",
       "      <td>...</td>\n",
       "      <td>...</td>\n",
       "      <td>...</td>\n",
       "    </tr>\n",
       "    <tr>\n",
       "      <th>4</th>\n",
       "      <td>1</td>\n",
       "      <td>14.516060</td>\n",
       "      <td>248.924679</td>\n",
       "      <td>88.985897</td>\n",
       "      <td>263.440739</td>\n",
       "      <td>24486.352675</td>\n",
       "    </tr>\n",
       "    <tr>\n",
       "      <th>4</th>\n",
       "      <td>0</td>\n",
       "      <td>9.809366</td>\n",
       "      <td>85.226094</td>\n",
       "      <td>49.875835</td>\n",
       "      <td>95.035460</td>\n",
       "      <td>24581.388135</td>\n",
       "    </tr>\n",
       "    <tr>\n",
       "      <th>4</th>\n",
       "      <td>0</td>\n",
       "      <td>17.813667</td>\n",
       "      <td>82.263800</td>\n",
       "      <td>43.227077</td>\n",
       "      <td>100.077466</td>\n",
       "      <td>24681.465601</td>\n",
       "    </tr>\n",
       "    <tr>\n",
       "      <th>4</th>\n",
       "      <td>1</td>\n",
       "      <td>29.639705</td>\n",
       "      <td>65.348722</td>\n",
       "      <td>42.043607</td>\n",
       "      <td>94.988427</td>\n",
       "      <td>24776.454028</td>\n",
       "    </tr>\n",
       "    <tr>\n",
       "      <th>4</th>\n",
       "      <td>1</td>\n",
       "      <td>14.574105</td>\n",
       "      <td>288.409584</td>\n",
       "      <td>44.083431</td>\n",
       "      <td>302.983688</td>\n",
       "      <td>25079.437717</td>\n",
       "    </tr>\n",
       "  </tbody>\n",
       "</table>\n",
       "<p>867 rows × 6 columns</p>\n",
       "</div>"
      ],
      "text/plain": [
       "     Gender  Attention_Time   Wait_Time   Expenses  Total_Time  \\\n",
       "Day                                                              \n",
       "0         0       24.163999   48.679821  48.038901   72.843820   \n",
       "0         0       19.736126   82.637016  37.277765  102.373142   \n",
       "0         0       16.957124  112.643482  26.457310  129.600606   \n",
       "0         1       17.479166  231.885848  89.782618  249.365014   \n",
       "0         1       15.815147  138.121667  91.019217  153.936814   \n",
       "..      ...             ...         ...        ...         ...   \n",
       "4         1       14.516060  248.924679  88.985897  263.440739   \n",
       "4         0        9.809366   85.226094  49.875835   95.035460   \n",
       "4         0       17.813667   82.263800  43.227077  100.077466   \n",
       "4         1       29.639705   65.348722  42.043607   94.988427   \n",
       "4         1       14.574105  288.409584  44.083431  302.983688   \n",
       "\n",
       "     Accumulated_Time  \n",
       "Day                    \n",
       "0           72.843820  \n",
       "0          175.216962  \n",
       "0          304.817568  \n",
       "0          554.182581  \n",
       "0          708.119395  \n",
       "..                ...  \n",
       "4        24486.352675  \n",
       "4        24581.388135  \n",
       "4        24681.465601  \n",
       "4        24776.454028  \n",
       "4        25079.437717  \n",
       "\n",
       "[867 rows x 6 columns]"
      ]
     },
     "execution_count": 13,
     "metadata": {},
     "output_type": "execute_result"
    }
   ],
   "source": [
    "def clients():\n",
    "    \n",
    "    MorW = np.random.uniform(size =10000) #10000 Simulations of Uniform Distibution.\n",
    "    data = pd.DataFrame() #Dataframe creation.\n",
    "    data['Gender'] = [1 if i<0.5 else 0 for i in MorW] #Saved Customer Gender, 1 woman and 0 men.\n",
    "    data['Attention_Time'] = np.random.uniform(T_at_min, T_at_max, size=10000) # Saved time in the queue.\n",
    "    #Saved timeout.\n",
    "    data['Wait_Time'] = [np.random.uniform(T_man_min, T_man_max) if i==0 else np.random.uniform(T_woman_min, T_woman_max) for i in data['Gender']]\n",
    "    #Saving of Expenditure by gender.\n",
    "    data['Expenses'] = [np.random.uniform(C_man_min, C_man_max) if i==0 else np.random.uniform(C_woman_min, C_woman_max) for i in data['Gender']] \n",
    "    # Saved time in being scorned.\n",
    "    data['Total_Time'] = data['Attention_Time'] + data['Wait_Time'] #Total attention time.\n",
    "    data['Accumulated_Time'] = data['Total_Time'].cumsum() #Accumulated time, max=25,200s.\n",
    "    data = data[data['Accumulated_Time'] <= T]\n",
    "    data.index.name = 'No.' # of clients.\n",
    "\n",
    "    return data\n",
    "\n",
    "Order = {i:clients() for i in range (d)}\n",
    "pd.concat(Order, names = ['Day']).reset_index(level=1, drop=True)\n"
   ]
  },
  {
   "attachments": {},
   "cell_type": "markdown",
   "metadata": {},
   "source": [
    "For each day these were the total results for each variable:"
   ]
  },
  {
   "cell_type": "code",
   "execution_count": 14,
   "metadata": {},
   "outputs": [
    {
     "data": {
      "text/html": [
       "<div>\n",
       "<style scoped>\n",
       "    .dataframe tbody tr th:only-of-type {\n",
       "        vertical-align: middle;\n",
       "    }\n",
       "\n",
       "    .dataframe tbody tr th {\n",
       "        vertical-align: top;\n",
       "    }\n",
       "\n",
       "    .dataframe thead th {\n",
       "        text-align: right;\n",
       "    }\n",
       "</style>\n",
       "<table border=\"1\" class=\"dataframe\">\n",
       "  <thead>\n",
       "    <tr style=\"text-align: right;\">\n",
       "      <th></th>\n",
       "      <th>Attention_Time</th>\n",
       "      <th>Wait_Time</th>\n",
       "      <th>Expenses</th>\n",
       "      <th>Total_Time</th>\n",
       "      <th>Accumulated_Time</th>\n",
       "    </tr>\n",
       "    <tr>\n",
       "      <th>Day</th>\n",
       "      <th></th>\n",
       "      <th></th>\n",
       "      <th></th>\n",
       "      <th></th>\n",
       "      <th></th>\n",
       "    </tr>\n",
       "  </thead>\n",
       "  <tbody>\n",
       "    <tr>\n",
       "      <th>0</th>\n",
       "      <td>3219.878035</td>\n",
       "      <td>21938.375285</td>\n",
       "      <td>9785.458516</td>\n",
       "      <td>25158.253319</td>\n",
       "      <td>2.276545e+06</td>\n",
       "    </tr>\n",
       "    <tr>\n",
       "      <th>1</th>\n",
       "      <td>3042.961217</td>\n",
       "      <td>22149.302650</td>\n",
       "      <td>9442.223140</td>\n",
       "      <td>25192.263867</td>\n",
       "      <td>2.139962e+06</td>\n",
       "    </tr>\n",
       "    <tr>\n",
       "      <th>2</th>\n",
       "      <td>3020.615170</td>\n",
       "      <td>22170.423766</td>\n",
       "      <td>9132.677089</td>\n",
       "      <td>25191.038936</td>\n",
       "      <td>2.135018e+06</td>\n",
       "    </tr>\n",
       "    <tr>\n",
       "      <th>3</th>\n",
       "      <td>3303.025980</td>\n",
       "      <td>21840.425997</td>\n",
       "      <td>10605.958308</td>\n",
       "      <td>25143.451977</td>\n",
       "      <td>2.329912e+06</td>\n",
       "    </tr>\n",
       "    <tr>\n",
       "      <th>4</th>\n",
       "      <td>2833.587308</td>\n",
       "      <td>22245.850409</td>\n",
       "      <td>9746.037217</td>\n",
       "      <td>25079.437717</td>\n",
       "      <td>2.148977e+06</td>\n",
       "    </tr>\n",
       "  </tbody>\n",
       "</table>\n",
       "</div>"
      ],
      "text/plain": [
       "     Attention_Time     Wait_Time      Expenses    Total_Time  \\\n",
       "Day                                                             \n",
       "0       3219.878035  21938.375285   9785.458516  25158.253319   \n",
       "1       3042.961217  22149.302650   9442.223140  25192.263867   \n",
       "2       3020.615170  22170.423766   9132.677089  25191.038936   \n",
       "3       3303.025980  21840.425997  10605.958308  25143.451977   \n",
       "4       2833.587308  22245.850409   9746.037217  25079.437717   \n",
       "\n",
       "     Accumulated_Time  \n",
       "Day                    \n",
       "0        2.276545e+06  \n",
       "1        2.139962e+06  \n",
       "2        2.135018e+06  \n",
       "3        2.329912e+06  \n",
       "4        2.148977e+06  "
      ]
     },
     "execution_count": 14,
     "metadata": {},
     "output_type": "execute_result"
    }
   ],
   "source": [
    "pd.concat(Order, names = ['Day']).groupby('Day').sum().drop(columns='Gender')"
   ]
  },
  {
   "cell_type": "code",
   "execution_count": 15,
   "metadata": {},
   "outputs": [
    {
     "data": {
      "text/html": [
       "<div>\n",
       "<style scoped>\n",
       "    .dataframe tbody tr th:only-of-type {\n",
       "        vertical-align: middle;\n",
       "    }\n",
       "\n",
       "    .dataframe tbody tr th {\n",
       "        vertical-align: top;\n",
       "    }\n",
       "\n",
       "    .dataframe thead th {\n",
       "        text-align: right;\n",
       "    }\n",
       "</style>\n",
       "<table border=\"1\" class=\"dataframe\">\n",
       "  <thead>\n",
       "    <tr style=\"text-align: right;\">\n",
       "      <th></th>\n",
       "      <th>Gender Ratio</th>\n",
       "      <th>Attention_Time</th>\n",
       "      <th>Wait_Time</th>\n",
       "      <th>Expenses</th>\n",
       "      <th>Total_Time</th>\n",
       "      <th>Accumulated_Time</th>\n",
       "    </tr>\n",
       "    <tr>\n",
       "      <th>Day</th>\n",
       "      <th></th>\n",
       "      <th></th>\n",
       "      <th></th>\n",
       "      <th></th>\n",
       "      <th></th>\n",
       "      <th></th>\n",
       "    </tr>\n",
       "  </thead>\n",
       "  <tbody>\n",
       "    <tr>\n",
       "      <th>0</th>\n",
       "      <td>0.480226</td>\n",
       "      <td>18.191401</td>\n",
       "      <td>123.945623</td>\n",
       "      <td>55.285076</td>\n",
       "      <td>142.137024</td>\n",
       "      <td>12861.837275</td>\n",
       "    </tr>\n",
       "    <tr>\n",
       "      <th>1</th>\n",
       "      <td>0.502959</td>\n",
       "      <td>18.005688</td>\n",
       "      <td>131.060962</td>\n",
       "      <td>55.871143</td>\n",
       "      <td>149.066650</td>\n",
       "      <td>12662.498800</td>\n",
       "    </tr>\n",
       "    <tr>\n",
       "      <th>2</th>\n",
       "      <td>0.493976</td>\n",
       "      <td>18.196477</td>\n",
       "      <td>133.556770</td>\n",
       "      <td>55.016127</td>\n",
       "      <td>151.753247</td>\n",
       "      <td>12861.555513</td>\n",
       "    </tr>\n",
       "    <tr>\n",
       "      <th>3</th>\n",
       "      <td>0.475410</td>\n",
       "      <td>18.049322</td>\n",
       "      <td>119.346590</td>\n",
       "      <td>57.956056</td>\n",
       "      <td>137.395912</td>\n",
       "      <td>12731.758370</td>\n",
       "    </tr>\n",
       "    <tr>\n",
       "      <th>4</th>\n",
       "      <td>0.447674</td>\n",
       "      <td>16.474345</td>\n",
       "      <td>129.336340</td>\n",
       "      <td>56.663007</td>\n",
       "      <td>145.810684</td>\n",
       "      <td>12494.050770</td>\n",
       "    </tr>\n",
       "  </tbody>\n",
       "</table>\n",
       "</div>"
      ],
      "text/plain": [
       "     Gender Ratio  Attention_Time   Wait_Time   Expenses  Total_Time  \\\n",
       "Day                                                                    \n",
       "0        0.480226       18.191401  123.945623  55.285076  142.137024   \n",
       "1        0.502959       18.005688  131.060962  55.871143  149.066650   \n",
       "2        0.493976       18.196477  133.556770  55.016127  151.753247   \n",
       "3        0.475410       18.049322  119.346590  57.956056  137.395912   \n",
       "4        0.447674       16.474345  129.336340  56.663007  145.810684   \n",
       "\n",
       "     Accumulated_Time  \n",
       "Day                    \n",
       "0        12861.837275  \n",
       "1        12662.498800  \n",
       "2        12861.555513  \n",
       "3        12731.758370  \n",
       "4        12494.050770  "
      ]
     },
     "execution_count": 15,
     "metadata": {},
     "output_type": "execute_result"
    }
   ],
   "source": [
    "pd.concat(Order, names = ['Day']).groupby(level = 0).mean().rename(columns = {'Gender': 'Gender Ratio'})"
   ]
  },
  {
   "attachments": {},
   "cell_type": "markdown",
   "metadata": {},
   "source": [
    "##### 1. What were the expenses of women and men in 5 days of work?"
   ]
  },
  {
   "attachments": {},
   "cell_type": "markdown",
   "metadata": {},
   "source": [
    "###### <span style='color:pink'> *Women* <span><br>"
   ]
  },
  {
   "cell_type": "code",
   "execution_count": 16,
   "metadata": {},
   "outputs": [
    {
     "data": {
      "text/plain": [
       "<AxesSubplot:xlabel='Day'>"
      ]
     },
     "execution_count": 16,
     "metadata": {},
     "output_type": "execute_result"
    },
    {
     "data": {
      "image/png": "[encoded data removed]",
      "text/plain": [
       "<Figure size 432x288 with 1 Axes>"
      ]
     },
     "metadata": {
      "needs_background": "light"
     },
     "output_type": "display_data"
    }
   ],
   "source": [
    "w = ([Order[i][Order[i]['Gender']==1]['Expenses'].sum() for i in range(d)])\n",
    "df = pd.DataFrame(w, columns = ['Women_Spending'])\n",
    "df.index.name = 'Day'\n",
    "df.index = df.index + 1\n",
    "#Plot bar of Women_Spending in df\n",
    "df.plot.bar(color=\"Pink\")\n",
    "#Sum 1 to df.index\n"
   ]
  },
  {
   "attachments": {},
   "cell_type": "markdown",
   "metadata": {},
   "source": [
    "Women spent a total of:"
   ]
  },
  {
   "cell_type": "code",
   "execution_count": 17,
   "metadata": {},
   "outputs": [
    {
     "data": {
      "text/plain": [
       "26570.178541794583"
      ]
     },
     "execution_count": 17,
     "metadata": {},
     "output_type": "execute_result"
    }
   ],
   "source": [
    "df.sum()[0]"
   ]
  },
  {
   "attachments": {},
   "cell_type": "markdown",
   "metadata": {},
   "source": [
    "###### <span style='color:teal'> *Men* <span><br>"
   ]
  },
  {
   "cell_type": "code",
   "execution_count": 18,
   "metadata": {},
   "outputs": [
    {
     "data": {
      "text/plain": [
       "<AxesSubplot:xlabel='Day'>"
      ]
     },
     "execution_count": 18,
     "metadata": {},
     "output_type": "execute_result"
    },
    {
     "data": {
      "image/png": "[encoded data removed]",
      "text/plain": [
       "<Figure size 432x288 with 1 Axes>"
      ]
     },
     "metadata": {
      "needs_background": "light"
     },
     "output_type": "display_data"
    }
   ],
   "source": [
    "m = ([Order[i][Order[i]['Gender']==0]['Expenses'].sum() for i in range(d)])\n",
    "df2 = pd.DataFrame(w, columns = ['Men_Spending'])\n",
    "df2.index.name = 'Day'\n",
    "df2.index = df.index + 1\n",
    "#Plot bar of Women_Spending in df\n",
    "df2.plot.bar(color=\"Blue\")\n",
    "#Sum 1 to df.index\n"
   ]
  },
  {
   "attachments": {},
   "cell_type": "markdown",
   "metadata": {},
   "source": [
    "Men spent a total of:"
   ]
  },
  {
   "cell_type": "code",
   "execution_count": 19,
   "metadata": {},
   "outputs": [
    {
     "data": {
      "text/plain": [
       "26570.178541794583"
      ]
     },
     "execution_count": 19,
     "metadata": {},
     "output_type": "execute_result"
    }
   ],
   "source": [
    "df2.sum()[0]"
   ]
  },
  {
   "attachments": {},
   "cell_type": "markdown",
   "metadata": {},
   "source": [
    "##### 2. What was the average consumption of women and men?"
   ]
  },
  {
   "cell_type": "code",
   "execution_count": 20,
   "metadata": {},
   "outputs": [
    {
     "name": "stdout",
     "output_type": "stream",
     "text": [
      "The average consumption of women was: 63.83 . Men avg. was: 49.04 \n",
      "\n"
     ]
    }
   ],
   "source": [
    "avg_women = np.mean([Order[i][Order[i]['Gender']==1]['Expenses'].mean() for i in range(d)])\n",
    "avg_men = np.mean([Order[i][Order[i]['Gender']==0]['Expenses'].mean() for i in range(d)])\n",
    "print('The average consumption of women was:',avg_women.round(2),'.','Men avg. was:', avg_men.round(2), '\\n',)"
   ]
  },
  {
   "attachments": {},
   "cell_type": "markdown",
   "metadata": {},
   "source": [
    "##### 3. What was the number of people served per day?"
   ]
  },
  {
   "cell_type": "code",
   "execution_count": 21,
   "metadata": {},
   "outputs": [
    {
     "name": "stdout",
     "output_type": "stream",
     "text": [
      "Day 1 : 177\n",
      "Day 2 : 169\n",
      "Day 3 : 166\n",
      "Day 4 : 183\n",
      "Day 5 : 172\n"
     ]
    }
   ],
   "source": [
    "Avg_people = ([Order[i].index for i in range(d)])\n",
    "[print('Day',i+1,':',len(Avg_people[i])) for i in range(d)][0]"
   ]
  },
  {
   "attachments": {},
   "cell_type": "markdown",
   "metadata": {},
   "source": [
    "##### 4. What was the average service time?"
   ]
  },
  {
   "attachments": {},
   "cell_type": "markdown",
   "metadata": {},
   "source": [
    "Women service time was much more compared with men.<br>\n",
    "It's important to note, that this is only true due to the data given for the model."
   ]
  },
  {
   "cell_type": "code",
   "execution_count": 22,
   "metadata": {},
   "outputs": [
    {
     "name": "stdout",
     "output_type": "stream",
     "text": [
      "The average service time for women was: 196.15 s.  Men avg was: 98.22 s.\n"
     ]
    }
   ],
   "source": [
    "Women_time = np.mean([Order[i][Order[i]['Gender']==1]['Total_Time'].mean() for i in range(d)])\n",
    "Men_time = np.mean([Order[i][Order[i]['Gender']==0]['Total_Time'].mean() for i in range(d)])\n",
    "print('The average service time for women was:',Women_time.round(2),'s. ','Men avg was:', Men_time.round(2), 's.',)"
   ]
  },
  {
   "attachments": {},
   "cell_type": "markdown",
   "metadata": {},
   "source": [
    "As we know, MonteCarlo results are an approximate but they are more accurate if we do more *N* simulations. "
   ]
  },
  {
   "attachments": {},
   "cell_type": "markdown",
   "metadata": {},
   "source": [
    "##### 5. How much was the average profit of the cafeteria in 5 days of work and its respective profitability?"
   ]
  },
  {
   "attachments": {},
   "cell_type": "markdown",
   "metadata": {},
   "source": [
    "Nevertheless, N=10000 is considered a close enough range for MonteCarlo simulations. <br>\n",
    "This is because the mean is equal to: $$\\mu=\\frac{1}{N}\\sum_{i=1}^{N}X_i$$\n",
    "And the standard deviation is equal to the root of the variance: $$\\sigma=\\sqrt{\\frac{1}{N}\\sum_{i=1}^{N}(X_i-\\mu)^2}$$\n",
    "For example, 1m simulations is an exxageration for results varying more than 2 or 3 decimal places."
   ]
  },
  {
   "cell_type": "code",
   "execution_count": 23,
   "metadata": {},
   "outputs": [
    {
     "name": "stdout",
     "output_type": "stream",
     "text": [
      "The profit of the cafeteria was: 29227.41256181495\n"
     ]
    }
   ],
   "source": [
    "dia_women = ([Order[i][Order[i]['Gender']==1]['Expenses'].sum() for i in range(d)])\n",
    "dia_men = ([Order[i][Order[i]['Gender']==0]['Expenses'].sum() for i in range(d)])\n",
    "#dia_women,dia_men\n",
    "print('The profit of the cafeteria was:',np.sum(dia_women)*0.6 + np.sum(dia_men)*0.6)"
   ]
  }
 ],
 "metadata": {
  "kernelspec": {
   "display_name": "Python 3",
   "language": "python",
   "name": "python3"
  },
  "language_info": {
   "codemirror_mode": {
    "name": "ipython",
    "version": 3
   },
   "file_extension": ".py",
   "mimetype": "text/x-python",
   "name": "python",
   "nbconvert_exporter": "python",
   "pygments_lexer": "ipython3",
   "version": "3.8.13"
  }
 },
 "nbformat": 4,
 "nbformat_minor": 2
}
