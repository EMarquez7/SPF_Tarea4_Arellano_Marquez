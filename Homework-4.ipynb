{
 "cells": [
  {
   "attachments": {},
   "cell_type": "markdown",
   "metadata": {},
   "source": [
    "### <font color='white'> Financial Processes Simulation Course <font>\n",
    "\n",
    "<img style=\"float: left; margin: 30px 15px 15px 15px;\" src=\"https://pngimage.net/wp-content/uploads/2018/06/logo-iteso-png-5.png\" width=\"250\" height=\"125\" align-text=\"auto\" />\n",
    "\n",
    "\n",
    "<font color = 'gray'> \n",
    "\n",
    "**Team:**\n",
    "1. [Ivan Arellano Ruelas](https://github.com/IvanArellanoRuelas)<br>\n",
    "2. [Esteban Márquez Delgado](https://github.com/EstebanMqz)\n",
    "\n",
    "**Date:** September 21, 2021.\n",
    "\n",
    "**Professor:** [Oscar David Jaramillo Zuluaga](https://github.com/odjaramilloz)\n",
    "\n",
    "**Repository**: https://github.com/EstebanMqz/FPS-Hw4_MD-Py_Ex. \n",
    "<font>\n",
    "\n",
    "#### <font color= 'orange'> Assignment 4: *Class 7* <font>"
   ]
  },
  {
   "attachments": {},
   "cell_type": "markdown",
   "metadata": {},
   "source": [
    "1. As a simple example of a **Monte Carlo** simulation, consider finding the probability of a particular sum of rolling three dice (each dice has values ​​from one to six). In addition, each die has the following characteristics: the first dice is not loaded (uniform distribution, all are equiprobable); the second and third die are loaded based on a binomial distribution with parameters (`n=5, p=0.5` and `n=5, p=0.2`). Find the probability that the resulting sum is 7, 14, or 18. Transcribe it"
   ]
  },
  {
   "cell_type": "code",
   "execution_count": 26,
   "metadata": {},
   "outputs": [],
   "source": [
    "# Package import\n",
    "import numpy as np\n",
    "import pandas as pd\n",
    "import scipy.stats as st"
   ]
  },
  {
   "attachments": {},
   "cell_type": "markdown",
   "metadata": {},
   "source": [
    "<span style='color:orange'> 1. Ivan Arellano Ruelas </span><br>"
   ]
  },
  {
   "cell_type": "code",
   "execution_count": 27,
   "metadata": {},
   "outputs": [
    {
     "data": {
      "text/plain": [
       "[0.126805, 0.013711, 4e-06]"
      ]
     },
     "execution_count": 27,
     "metadata": {},
     "output_type": "execute_result"
    }
   ],
   "source": [
    "#Solution code of Ivan.\n",
    "np.random.seed(44)\n",
    "n = 1000000\n",
    "unloaded_dice = np.random.randint(1,7,n)\n",
    "loaded_dice1 = st.binom(n=5 , p=0.5 , loc=1).rvs(size=n)\n",
    "loaded_dice2 = st.binom(n=5 , p=0.2 , loc=1).rvs(size=n)\n",
    "sum = unloaded_dice + loaded_dice1 + loaded_dice2\n",
    "\n",
    "result = [7,14,18]\n",
    "[len(sum[sum == i])/len(sum) for i in result]\n"
   ]
  },
  {
   "attachments": {},
   "cell_type": "markdown",
   "metadata": {},
   "source": [
    "<span style='color:lightgreen'> 1. Esteban Márquez Delgado </span><br>"
   ]
  },
  {
   "cell_type": "code",
   "execution_count": 28,
   "metadata": {},
   "outputs": [
    {
     "name": "stdout",
     "output_type": "stream",
     "text": [
      "The probability of obtaining a sum of 7,14 and 18 in the throw of 3 dice is: [0.126805, 0.013711, 4e-06] for each one respectively.\n"
     ]
    }
   ],
   "source": [
    "#Solution code of Esteban.\n",
    "np.random.seed(500) #random values set\n",
    "\n",
    "dice1 = dice1=np.random.randint(low=1, high=7, size=1000000) #Random distribution for discrete values.\n",
    "dice2 = st.binom(5, 0.5, loc = 1).rvs(size = 1000000) #Binomial distribution, size = # of simulations.\n",
    "dice3 = st.binom(5, 0.2, loc = 1).rvs(size = 1000000) #Same size 0f experiments.\n",
    "\n",
    "#List Compression\n",
    "x = [len(sum[sum == x])/len(sum) for x in [7,14,18]]\n",
    "print('The probability of obtaining a sum of 7,14 and 18 in the throw of 3 dice is:',\n",
    "        x, 'for each one respectively.')"
   ]
  },
  {
   "attachments": {},
   "cell_type": "markdown",
   "metadata": {},
   "source": [
    "2. **Simulation**<br>\n",
    "\n",
    "***Premises for the simulation***:\n",
    "- Food business that sells drinks and food.\n",
    "- Business within ITESO.\n",
    "- Business in central cafe.\n",
    "- Type of clients (men & women).\n",
    "- Profitability of 60%.\n",
    "\n",
    "***Aim***: <br>\n",
    "Carry out a simulation estimating the average time it will take customers to be served between the hours of 6:30 a.m. and 1 p.m. <br> \n",
    "**Determine consumption** (*Analyze assumptions and limitations*)."
   ]
  },
  {
   "attachments": {},
   "cell_type": "markdown",
   "metadata": {},
   "source": [
    "***Assumptions for the simulation***:<br>\n",
    "Customer Classification:\n",
    "- Female = 1 random $\\longrightarrow$ < 0.5\n",
    "- Male = 0 $\\longrightarrow$ random $\\geq$ 0.5.\n",
    "\n",
    "Initial conditions:\n",
    "- All probability distributions will be assumed to be *uniform*.\n",
    "- Simulation time: 6:30 am - 1:30 pm $\\longrightarrow$ T = 7 hours = 25200 sec.\n",
    "- Arrival time until being attended: Min=5sec, Max=30sec.\n",
    "- Time it takes customers to be served:\n",
    "    - Woman: Min = 1 min = 60 sec, Max = 5 min = 300 sec\n",
    "    - Man: Min = 40 sec, Max = 2 min= 120 sec\n",
    "- Consumption according to the type of client:\n",
    "    - Woman: Min = 30 pesos, Max = 100 pesos\n",
    "    - Man: Min = 20 pesos, Max = 80 pesos\n",
    "\n",
    "Answer the following questions based on the data from the problem:\n",
    "1. What were the ***expenses*** of men and women in 5 days of work?\n",
    "2. What was the ***average consumption*** of men and women?\n",
    "3. What was the number of ***people served*** per day?\n",
    "4. What was the average ***service time***?\n",
    "5. How much was the average ***profit*** of the cafeteria in 5 days of work and its respective profitability?"
   ]
  },
  {
   "cell_type": "code",
   "execution_count": 29,
   "metadata": {},
   "outputs": [],
   "source": [
    "#Data\n",
    "d = 5\n",
    "T =25200\n",
    "T_at_min = 5; T_at_max = 30\n",
    "T_woman_min =60; T_woman_max = 300\n",
    "T_man_min = 40; T_man_max = 120\n",
    "C_woman_min = 30; C_woman_max = 100\n",
    "C_man_min = 20; C_man_max = 80\n"
   ]
  },
  {
   "attachments": {},
   "cell_type": "markdown",
   "metadata": {},
   "source": [
    "<span style='color:orange'> 2. Ivan Arellano Ruelas </span><br>"
   ]
  },
  {
   "cell_type": "code",
   "execution_count": 30,
   "metadata": {},
   "outputs": [
    {
     "name": "stdout",
     "output_type": "stream",
     "text": [
      "Attention time simulation: 7.039071991167438 \n",
      " Simulation of Men time: 76.24782160857893 \n",
      " Simulation of Women time: 98.15699379842069 \n",
      " Men consumption simulation: 78.37118982825598 \n",
      " Women consumption simulation: 40.15648138753554\n"
     ]
    }
   ],
   "source": [
    "#Simulations\n",
    "\n",
    "sim_t_aten = np.random.uniform(T_at_min,T_at_max)\n",
    "sim_t_man = np.random.uniform(T_man_min,T_man_max)\n",
    "sim_t_woman = np.random.uniform(T_woman_min,T_woman_max)\n",
    "sim_c_man = np.random.uniform(C_man_min,C_man_max)\n",
    "sim_c_woman = np.random.uniform(C_woman_min,C_woman_max)\n",
    "print('Attention time simulation:',sim_t_aten,'\\n',\n",
    "      'Simulation of Men time:', sim_t_man,'\\n',\n",
    "      'Simulation of Women time:',sim_t_woman,'\\n',\n",
    "      'Men consumption simulation:',sim_c_man,'\\n',\n",
    "      'Women consumption simulation:',sim_c_woman)"
   ]
  },
  {
   "cell_type": "code",
   "execution_count": 31,
   "metadata": {},
   "outputs": [
    {
     "data": {
      "text/plain": [
       "((83.28689359974636, 78.37118982825598),\n",
       " (105.19606578958812, 40.15648138753554))"
      ]
     },
     "execution_count": 31,
     "metadata": {},
     "output_type": "execute_result"
    }
   ],
   "source": [
    "hombres = sim_t_man + sim_t_aten,sim_c_man\n",
    "mujeres = sim_t_woman +  sim_t_aten,sim_c_woman\n",
    "hombres , mujeres"
   ]
  },
  {
   "cell_type": "code",
   "execution_count": 32,
   "metadata": {},
   "outputs": [],
   "source": [
    "Consumption_H = []\n",
    "Consumption_M = []\n",
    "counter = 0\n",
    "People = []\n",
    "for i in range(d):\n",
    "    t_total = 0\n",
    "    counter = 0\n",
    "    while t_total < T:\n",
    "        H_M = np.random.rand()\n",
    "        if H_M >= 0.5:\n",
    "            time = [np.random.uniform(T_man_min,T_man_max) + np.random.uniform(T_at_min,T_at_max) ,\n",
    "            np.random.uniform(C_man_min,C_man_max)]\n",
    "            h = Consumption_H.append(time[1])\n",
    "        else:\n",
    "            time = [np.random.uniform(T_woman_min,T_woman_max) + np.random.uniform(T_at_min,T_at_max),\n",
    "            np.random.uniform(C_woman_min,C_woman_max)]\n",
    "            m = Consumption_M.append(time[1])\n",
    "            \n",
    "        counter += 1\n",
    "        t_total += time[0]\n",
    "    People.append(counter)\n",
    "        "
   ]
  },
  {
   "cell_type": "code",
   "execution_count": 33,
   "metadata": {},
   "outputs": [
    {
     "data": {
      "text/plain": [
       "(20942.931994734143,\n",
       " 28958.570925575146,\n",
       " 49.86412379698606,\n",
       " 49.86412379698606,\n",
       " [177, 165, 190, 166, 159],\n",
       " 147.6099161430545,\n",
       " 29940.90175218557)"
      ]
     },
     "execution_count": 33,
     "metadata": {},
     "output_type": "execute_result"
    }
   ],
   "source": [
    "np.array(Consumption_H).sum(), np.array(Consumption_M).sum(),np.array(Consumption_H).mean(), np.array(Consumption_H).mean(),People, (np.array(t_total)/np.array(People)).mean(),np.array(Consumption_H).sum()*.60 + np.array(Consumption_M).sum()*.60"
   ]
  },
  {
   "attachments": {},
   "cell_type": "markdown",
   "metadata": {},
   "source": [
    "#### *Optimal programming*"
   ]
  },
  {
   "cell_type": "code",
   "execution_count": 34,
   "metadata": {},
   "outputs": [],
   "source": [
    "def timeH():\n",
    "    \"\"\"\n",
    "    With this function I try to speed up the calculation\n",
    "    for the simulation of time and human consumption\n",
    "    \"\"\"\n",
    "    return [np.random.uniform(T_man_min,T_man_max) + np.random.uniform(T_at_min,T_at_max),\n",
    "            np.random.uniform(C_man_min,C_man_max)]\n",
    "def timeM():\n",
    "    \"\"\"\n",
    "    With this function I try to speed up the calculation\n",
    "    for the simulation of time and consumption of women\n",
    "    \"\"\"\n",
    "    return [np.random.uniform(T_woman_min,T_woman_max) + np.random.uniform(T_at_min,T_at_max),\n",
    "            np.random.uniform(C_woman_min,C_woman_max)]"
   ]
  },
  {
   "cell_type": "code",
   "execution_count": 35,
   "metadata": {},
   "outputs": [],
   "source": [
    "Consumption_H = []\n",
    "Consumption_M = []\n",
    "counter = 0\n",
    "People = []\n",
    "for i in range(d):\n",
    "    t_total = 0\n",
    "    counter = 0 \n",
    "    while t_total < T:\n",
    "        H_M = np.random.rand()\n",
    "        if H_M >= 0.5:\n",
    "            tiem = timeH()\n",
    "            h = Consumption_H.append(time[1])\n",
    "        else: \n",
    "            tiem = timeM()\n",
    "            m = Consumption_M.append(time[1])\n",
    "            \n",
    "        counter += 1\n",
    "        t_total += tiem[0]\n",
    "    People.append(counter)\n",
    "        "
   ]
  },
  {
   "cell_type": "code",
   "execution_count": 36,
   "metadata": {},
   "outputs": [
    {
     "data": {
      "text/plain": [
       "(19515.32111392441,\n",
       " 17044.497196067023,\n",
       " 41.878371489108176,\n",
       " 41.87837148910816,\n",
       " [171, 183, 179, 170, 170],\n",
       " 145.8571735531346,\n",
       " 21935.890985994858)"
      ]
     },
     "execution_count": 36,
     "metadata": {},
     "output_type": "execute_result"
    }
   ],
   "source": [
    "np.array(Consumption_H).sum() , np.array(Consumption_M).sum() , np.array(Consumption_H).mean() , np.array(Consumption_M).mean() , People , (np.array(t_total)/np.array(People)).mean() , np.array(Consumption_H).sum()*.60 + np.array(Consumption_M).sum()*.60"
   ]
  },
  {
   "cell_type": "code",
   "execution_count": 37,
   "metadata": {},
   "outputs": [
    {
     "name": "stdout",
     "output_type": "stream",
     "text": [
      " 1) Men expenses: 19515.32111392441  &  Women expenses: 17044.497196067023 \n",
      "  2) Average Male Consumption: 41.878371489108176 & Average Female Consumption: 41.87837148910816 \n",
      " 3) Number of people per day: [171, 183, 179, 170, 170] \n",
      " 4) Average attention time: 145.8571735531346 \n",
      " 5 Average Earnings of the Cafe in 5 days: 21935.890985994858\n"
     ]
    }
   ],
   "source": [
    "print(' 1) Men expenses:',np.array(Consumption_H).sum(),' & ','Women expenses:', np.array(Consumption_M).sum(), '\\n ',\n",
    "      '2) Average Male Consumption:',np.array(Consumption_H).mean(),'&','Average Female Consumption:',np.array(Consumption_M).mean(),'\\n',\n",
    "      '3) Number of people per day:', People,'\\n',\n",
    "      '4) Average attention time:',(np.array(t_total)/np.array(People)).mean(),'\\n',\n",
    "      '5 Average Earnings of the Cafe in 5 days:',np.array(Consumption_H).sum()*.60 + np.array(Consumption_M).sum()*.60 )"
   ]
  },
  {
   "attachments": {},
   "cell_type": "markdown",
   "metadata": {},
   "source": [
    "<span style='color:lightgreen'> 2. Esteban Márquez Delgado </span><br>"
   ]
  },
  {
   "attachments": {},
   "cell_type": "markdown",
   "metadata": {},
   "source": [
    "#### Customer Simulations: Day 1-5"
   ]
  },
  {
   "cell_type": "code",
   "execution_count": 38,
   "metadata": {},
   "outputs": [
    {
     "data": {
      "text/html": [
       "<div>\n",
       "<style scoped>\n",
       "    .dataframe tbody tr th:only-of-type {\n",
       "        vertical-align: middle;\n",
       "    }\n",
       "\n",
       "    .dataframe tbody tr th {\n",
       "        vertical-align: top;\n",
       "    }\n",
       "\n",
       "    .dataframe thead th {\n",
       "        text-align: right;\n",
       "    }\n",
       "</style>\n",
       "<table border=\"1\" class=\"dataframe\">\n",
       "  <thead>\n",
       "    <tr style=\"text-align: right;\">\n",
       "      <th></th>\n",
       "      <th>Gender</th>\n",
       "      <th>Attention_Time</th>\n",
       "      <th>Wait_Time</th>\n",
       "      <th>Expenses</th>\n",
       "      <th>Total_Time</th>\n",
       "      <th>Accumulated_Time</th>\n",
       "    </tr>\n",
       "    <tr>\n",
       "      <th>No.</th>\n",
       "      <th></th>\n",
       "      <th></th>\n",
       "      <th></th>\n",
       "      <th></th>\n",
       "      <th></th>\n",
       "      <th></th>\n",
       "    </tr>\n",
       "  </thead>\n",
       "  <tbody>\n",
       "    <tr>\n",
       "      <th>0</th>\n",
       "      <td>0</td>\n",
       "      <td>24.163999</td>\n",
       "      <td>48.679821</td>\n",
       "      <td>48.038901</td>\n",
       "      <td>72.843820</td>\n",
       "      <td>72.843820</td>\n",
       "    </tr>\n",
       "    <tr>\n",
       "      <th>1</th>\n",
       "      <td>0</td>\n",
       "      <td>19.736126</td>\n",
       "      <td>82.637016</td>\n",
       "      <td>37.277765</td>\n",
       "      <td>102.373142</td>\n",
       "      <td>175.216962</td>\n",
       "    </tr>\n",
       "    <tr>\n",
       "      <th>2</th>\n",
       "      <td>0</td>\n",
       "      <td>16.957124</td>\n",
       "      <td>112.643482</td>\n",
       "      <td>26.457310</td>\n",
       "      <td>129.600606</td>\n",
       "      <td>304.817568</td>\n",
       "    </tr>\n",
       "    <tr>\n",
       "      <th>3</th>\n",
       "      <td>1</td>\n",
       "      <td>17.479166</td>\n",
       "      <td>231.885848</td>\n",
       "      <td>89.782618</td>\n",
       "      <td>249.365014</td>\n",
       "      <td>554.182581</td>\n",
       "    </tr>\n",
       "    <tr>\n",
       "      <th>4</th>\n",
       "      <td>1</td>\n",
       "      <td>15.815147</td>\n",
       "      <td>138.121667</td>\n",
       "      <td>91.019217</td>\n",
       "      <td>153.936814</td>\n",
       "      <td>708.119395</td>\n",
       "    </tr>\n",
       "    <tr>\n",
       "      <th>...</th>\n",
       "      <td>...</td>\n",
       "      <td>...</td>\n",
       "      <td>...</td>\n",
       "      <td>...</td>\n",
       "      <td>...</td>\n",
       "      <td>...</td>\n",
       "    </tr>\n",
       "    <tr>\n",
       "      <th>172</th>\n",
       "      <td>0</td>\n",
       "      <td>18.139232</td>\n",
       "      <td>65.673271</td>\n",
       "      <td>31.480069</td>\n",
       "      <td>83.812503</td>\n",
       "      <td>24732.382120</td>\n",
       "    </tr>\n",
       "    <tr>\n",
       "      <th>173</th>\n",
       "      <td>0</td>\n",
       "      <td>14.292802</td>\n",
       "      <td>64.271262</td>\n",
       "      <td>70.265953</td>\n",
       "      <td>78.564065</td>\n",
       "      <td>24810.946184</td>\n",
       "    </tr>\n",
       "    <tr>\n",
       "      <th>174</th>\n",
       "      <td>0</td>\n",
       "      <td>28.575849</td>\n",
       "      <td>53.000281</td>\n",
       "      <td>29.118941</td>\n",
       "      <td>81.576130</td>\n",
       "      <td>24892.522314</td>\n",
       "    </tr>\n",
       "    <tr>\n",
       "      <th>175</th>\n",
       "      <td>1</td>\n",
       "      <td>6.585152</td>\n",
       "      <td>159.404440</td>\n",
       "      <td>32.105713</td>\n",
       "      <td>165.989592</td>\n",
       "      <td>25058.511906</td>\n",
       "    </tr>\n",
       "    <tr>\n",
       "      <th>176</th>\n",
       "      <td>0</td>\n",
       "      <td>5.377325</td>\n",
       "      <td>94.364089</td>\n",
       "      <td>41.133752</td>\n",
       "      <td>99.741413</td>\n",
       "      <td>25158.253319</td>\n",
       "    </tr>\n",
       "  </tbody>\n",
       "</table>\n",
       "<p>177 rows × 6 columns</p>\n",
       "</div>"
      ],
      "text/plain": [
       "     Gender  Attention_Time   Wait_Time   Expenses  Total_Time  \\\n",
       "No.                                                              \n",
       "0         0       24.163999   48.679821  48.038901   72.843820   \n",
       "1         0       19.736126   82.637016  37.277765  102.373142   \n",
       "2         0       16.957124  112.643482  26.457310  129.600606   \n",
       "3         1       17.479166  231.885848  89.782618  249.365014   \n",
       "4         1       15.815147  138.121667  91.019217  153.936814   \n",
       "..      ...             ...         ...        ...         ...   \n",
       "172       0       18.139232   65.673271  31.480069   83.812503   \n",
       "173       0       14.292802   64.271262  70.265953   78.564065   \n",
       "174       0       28.575849   53.000281  29.118941   81.576130   \n",
       "175       1        6.585152  159.404440  32.105713  165.989592   \n",
       "176       0        5.377325   94.364089  41.133752   99.741413   \n",
       "\n",
       "     Accumulated_Time  \n",
       "No.                    \n",
       "0           72.843820  \n",
       "1          175.216962  \n",
       "2          304.817568  \n",
       "3          554.182581  \n",
       "4          708.119395  \n",
       "..                ...  \n",
       "172      24732.382120  \n",
       "173      24810.946184  \n",
       "174      24892.522314  \n",
       "175      25058.511906  \n",
       "176      25158.253319  \n",
       "\n",
       "[177 rows x 6 columns]"
      ]
     },
     "execution_count": 38,
     "metadata": {},
     "output_type": "execute_result"
    }
   ],
   "source": [
    "def clients():\n",
    "    \n",
    "    MorW = np.random.uniform(size =10000) #10000 Simulations of Uniform Distibution.\n",
    "    data = pd.DataFrame() #Dataframe creation.\n",
    "    data['Gender'] = [1 if i<0.5 else 0 for i in MorW] #Saved Customer Gender, 1 woman and 0 men.\n",
    "    data['Attention_Time'] = np.random.uniform(T_at_min, T_at_max, size=10000) # Saved time in the queue.\n",
    "    #Saved timeout.\n",
    "    data['Wait_Time'] = [np.random.uniform(T_man_min, T_man_max) if i==0 else np.random.uniform(T_woman_min, T_woman_max) for i in data['Gender']]\n",
    "    #Saving of Expenditure by gender.\n",
    "    data['Expenses'] = [np.random.uniform(C_man_min, C_man_max) if i==0 else np.random.uniform(C_woman_min, C_woman_max) for i in data['Gender']] \n",
    "    # Saved time in being scorned.\n",
    "    data['Total_Time'] = data['Attention_Time'] + data['Wait_Time'] #Total attention time.\n",
    "    data['Accumulated_Time'] = data['Total_Time'].cumsum() #Accumulated time, max=25,200s.\n",
    "    data = data[data['Accumulated_Time'] <= T]\n",
    "    data.index.name = 'No.' # of clients.\n",
    "\n",
    "    return data\n",
    "\n",
    "Order = {i:clients() for i in range (d)}\n",
    "\n",
    "#Order[0], #Order[1], #Order[2], #Order[3] #Simulation of days.\n",
    "Order[0] #Simulaton of days 1-5."
   ]
  },
  {
   "cell_type": "code",
   "execution_count": 39,
   "metadata": {},
   "outputs": [
    {
     "data": {
      "text/html": [
       "<div>\n",
       "<style scoped>\n",
       "    .dataframe tbody tr th:only-of-type {\n",
       "        vertical-align: middle;\n",
       "    }\n",
       "\n",
       "    .dataframe tbody tr th {\n",
       "        vertical-align: top;\n",
       "    }\n",
       "\n",
       "    .dataframe thead th {\n",
       "        text-align: right;\n",
       "    }\n",
       "</style>\n",
       "<table border=\"1\" class=\"dataframe\">\n",
       "  <thead>\n",
       "    <tr style=\"text-align: right;\">\n",
       "      <th></th>\n",
       "      <th>Gender</th>\n",
       "      <th>Attention_Time</th>\n",
       "      <th>Wait_Time</th>\n",
       "      <th>Expenses</th>\n",
       "      <th>Total_Time</th>\n",
       "      <th>Accumulated_Time</th>\n",
       "    </tr>\n",
       "    <tr>\n",
       "      <th>No.</th>\n",
       "      <th></th>\n",
       "      <th></th>\n",
       "      <th></th>\n",
       "      <th></th>\n",
       "      <th></th>\n",
       "      <th></th>\n",
       "    </tr>\n",
       "  </thead>\n",
       "  <tbody>\n",
       "    <tr>\n",
       "      <th>0</th>\n",
       "      <td>1</td>\n",
       "      <td>19.370400</td>\n",
       "      <td>146.261344</td>\n",
       "      <td>50.449758</td>\n",
       "      <td>165.631744</td>\n",
       "      <td>165.631744</td>\n",
       "    </tr>\n",
       "    <tr>\n",
       "      <th>1</th>\n",
       "      <td>0</td>\n",
       "      <td>11.019648</td>\n",
       "      <td>65.677143</td>\n",
       "      <td>55.930876</td>\n",
       "      <td>76.696790</td>\n",
       "      <td>242.328534</td>\n",
       "    </tr>\n",
       "    <tr>\n",
       "      <th>2</th>\n",
       "      <td>1</td>\n",
       "      <td>14.087504</td>\n",
       "      <td>110.365148</td>\n",
       "      <td>63.918664</td>\n",
       "      <td>124.452652</td>\n",
       "      <td>366.781187</td>\n",
       "    </tr>\n",
       "    <tr>\n",
       "      <th>3</th>\n",
       "      <td>0</td>\n",
       "      <td>14.042755</td>\n",
       "      <td>108.579447</td>\n",
       "      <td>49.612191</td>\n",
       "      <td>122.622202</td>\n",
       "      <td>489.403389</td>\n",
       "    </tr>\n",
       "    <tr>\n",
       "      <th>4</th>\n",
       "      <td>1</td>\n",
       "      <td>25.180439</td>\n",
       "      <td>263.613748</td>\n",
       "      <td>65.011474</td>\n",
       "      <td>288.794187</td>\n",
       "      <td>778.197576</td>\n",
       "    </tr>\n",
       "    <tr>\n",
       "      <th>...</th>\n",
       "      <td>...</td>\n",
       "      <td>...</td>\n",
       "      <td>...</td>\n",
       "      <td>...</td>\n",
       "      <td>...</td>\n",
       "      <td>...</td>\n",
       "    </tr>\n",
       "    <tr>\n",
       "      <th>164</th>\n",
       "      <td>1</td>\n",
       "      <td>28.373242</td>\n",
       "      <td>190.112977</td>\n",
       "      <td>49.335585</td>\n",
       "      <td>218.486218</td>\n",
       "      <td>24815.725593</td>\n",
       "    </tr>\n",
       "    <tr>\n",
       "      <th>165</th>\n",
       "      <td>1</td>\n",
       "      <td>8.367957</td>\n",
       "      <td>107.742248</td>\n",
       "      <td>41.233463</td>\n",
       "      <td>116.110204</td>\n",
       "      <td>24931.835797</td>\n",
       "    </tr>\n",
       "    <tr>\n",
       "      <th>166</th>\n",
       "      <td>0</td>\n",
       "      <td>18.189625</td>\n",
       "      <td>110.101672</td>\n",
       "      <td>49.468242</td>\n",
       "      <td>128.291297</td>\n",
       "      <td>25060.127094</td>\n",
       "    </tr>\n",
       "    <tr>\n",
       "      <th>167</th>\n",
       "      <td>0</td>\n",
       "      <td>5.393205</td>\n",
       "      <td>63.674553</td>\n",
       "      <td>48.972332</td>\n",
       "      <td>69.067759</td>\n",
       "      <td>25129.194853</td>\n",
       "    </tr>\n",
       "    <tr>\n",
       "      <th>168</th>\n",
       "      <td>0</td>\n",
       "      <td>20.043036</td>\n",
       "      <td>43.025978</td>\n",
       "      <td>36.603634</td>\n",
       "      <td>63.069014</td>\n",
       "      <td>25192.263867</td>\n",
       "    </tr>\n",
       "  </tbody>\n",
       "</table>\n",
       "<p>169 rows × 6 columns</p>\n",
       "</div>"
      ],
      "text/plain": [
       "     Gender  Attention_Time   Wait_Time   Expenses  Total_Time  \\\n",
       "No.                                                              \n",
       "0         1       19.370400  146.261344  50.449758  165.631744   \n",
       "1         0       11.019648   65.677143  55.930876   76.696790   \n",
       "2         1       14.087504  110.365148  63.918664  124.452652   \n",
       "3         0       14.042755  108.579447  49.612191  122.622202   \n",
       "4         1       25.180439  263.613748  65.011474  288.794187   \n",
       "..      ...             ...         ...        ...         ...   \n",
       "164       1       28.373242  190.112977  49.335585  218.486218   \n",
       "165       1        8.367957  107.742248  41.233463  116.110204   \n",
       "166       0       18.189625  110.101672  49.468242  128.291297   \n",
       "167       0        5.393205   63.674553  48.972332   69.067759   \n",
       "168       0       20.043036   43.025978  36.603634   63.069014   \n",
       "\n",
       "     Accumulated_Time  \n",
       "No.                    \n",
       "0          165.631744  \n",
       "1          242.328534  \n",
       "2          366.781187  \n",
       "3          489.403389  \n",
       "4          778.197576  \n",
       "..                ...  \n",
       "164      24815.725593  \n",
       "165      24931.835797  \n",
       "166      25060.127094  \n",
       "167      25129.194853  \n",
       "168      25192.263867  \n",
       "\n",
       "[169 rows x 6 columns]"
      ]
     },
     "execution_count": 39,
     "metadata": {},
     "output_type": "execute_result"
    }
   ],
   "source": [
    "Order[1]"
   ]
  },
  {
   "cell_type": "code",
   "execution_count": 40,
   "metadata": {},
   "outputs": [
    {
     "data": {
      "text/html": [
       "<div>\n",
       "<style scoped>\n",
       "    .dataframe tbody tr th:only-of-type {\n",
       "        vertical-align: middle;\n",
       "    }\n",
       "\n",
       "    .dataframe tbody tr th {\n",
       "        vertical-align: top;\n",
       "    }\n",
       "\n",
       "    .dataframe thead th {\n",
       "        text-align: right;\n",
       "    }\n",
       "</style>\n",
       "<table border=\"1\" class=\"dataframe\">\n",
       "  <thead>\n",
       "    <tr style=\"text-align: right;\">\n",
       "      <th></th>\n",
       "      <th>Gender</th>\n",
       "      <th>Attention_Time</th>\n",
       "      <th>Wait_Time</th>\n",
       "      <th>Expenses</th>\n",
       "      <th>Total_Time</th>\n",
       "      <th>Accumulated_Time</th>\n",
       "    </tr>\n",
       "    <tr>\n",
       "      <th>No.</th>\n",
       "      <th></th>\n",
       "      <th></th>\n",
       "      <th></th>\n",
       "      <th></th>\n",
       "      <th></th>\n",
       "      <th></th>\n",
       "    </tr>\n",
       "  </thead>\n",
       "  <tbody>\n",
       "    <tr>\n",
       "      <th>0</th>\n",
       "      <td>0</td>\n",
       "      <td>11.159292</td>\n",
       "      <td>75.623314</td>\n",
       "      <td>41.837802</td>\n",
       "      <td>86.782606</td>\n",
       "      <td>86.782606</td>\n",
       "    </tr>\n",
       "    <tr>\n",
       "      <th>1</th>\n",
       "      <td>0</td>\n",
       "      <td>14.657136</td>\n",
       "      <td>70.164939</td>\n",
       "      <td>26.123282</td>\n",
       "      <td>84.822075</td>\n",
       "      <td>171.604680</td>\n",
       "    </tr>\n",
       "    <tr>\n",
       "      <th>2</th>\n",
       "      <td>1</td>\n",
       "      <td>16.937139</td>\n",
       "      <td>194.657252</td>\n",
       "      <td>50.304278</td>\n",
       "      <td>211.594392</td>\n",
       "      <td>383.199072</td>\n",
       "    </tr>\n",
       "    <tr>\n",
       "      <th>3</th>\n",
       "      <td>0</td>\n",
       "      <td>26.686565</td>\n",
       "      <td>91.420825</td>\n",
       "      <td>76.795712</td>\n",
       "      <td>118.107390</td>\n",
       "      <td>501.306462</td>\n",
       "    </tr>\n",
       "    <tr>\n",
       "      <th>4</th>\n",
       "      <td>0</td>\n",
       "      <td>11.889393</td>\n",
       "      <td>115.870843</td>\n",
       "      <td>32.476241</td>\n",
       "      <td>127.760236</td>\n",
       "      <td>629.066698</td>\n",
       "    </tr>\n",
       "    <tr>\n",
       "      <th>...</th>\n",
       "      <td>...</td>\n",
       "      <td>...</td>\n",
       "      <td>...</td>\n",
       "      <td>...</td>\n",
       "      <td>...</td>\n",
       "      <td>...</td>\n",
       "    </tr>\n",
       "    <tr>\n",
       "      <th>161</th>\n",
       "      <td>1</td>\n",
       "      <td>26.646585</td>\n",
       "      <td>69.143994</td>\n",
       "      <td>67.773896</td>\n",
       "      <td>95.790579</td>\n",
       "      <td>24747.400628</td>\n",
       "    </tr>\n",
       "    <tr>\n",
       "      <th>162</th>\n",
       "      <td>0</td>\n",
       "      <td>28.951739</td>\n",
       "      <td>40.965029</td>\n",
       "      <td>31.693280</td>\n",
       "      <td>69.916768</td>\n",
       "      <td>24817.317396</td>\n",
       "    </tr>\n",
       "    <tr>\n",
       "      <th>163</th>\n",
       "      <td>1</td>\n",
       "      <td>26.129166</td>\n",
       "      <td>128.355417</td>\n",
       "      <td>46.349114</td>\n",
       "      <td>154.484582</td>\n",
       "      <td>24971.801978</td>\n",
       "    </tr>\n",
       "    <tr>\n",
       "      <th>164</th>\n",
       "      <td>0</td>\n",
       "      <td>29.735971</td>\n",
       "      <td>83.305891</td>\n",
       "      <td>64.077410</td>\n",
       "      <td>113.041862</td>\n",
       "      <td>25084.843840</td>\n",
       "    </tr>\n",
       "    <tr>\n",
       "      <th>165</th>\n",
       "      <td>0</td>\n",
       "      <td>29.324472</td>\n",
       "      <td>76.870625</td>\n",
       "      <td>58.715530</td>\n",
       "      <td>106.195096</td>\n",
       "      <td>25191.038936</td>\n",
       "    </tr>\n",
       "  </tbody>\n",
       "</table>\n",
       "<p>166 rows × 6 columns</p>\n",
       "</div>"
      ],
      "text/plain": [
       "     Gender  Attention_Time   Wait_Time   Expenses  Total_Time  \\\n",
       "No.                                                              \n",
       "0         0       11.159292   75.623314  41.837802   86.782606   \n",
       "1         0       14.657136   70.164939  26.123282   84.822075   \n",
       "2         1       16.937139  194.657252  50.304278  211.594392   \n",
       "3         0       26.686565   91.420825  76.795712  118.107390   \n",
       "4         0       11.889393  115.870843  32.476241  127.760236   \n",
       "..      ...             ...         ...        ...         ...   \n",
       "161       1       26.646585   69.143994  67.773896   95.790579   \n",
       "162       0       28.951739   40.965029  31.693280   69.916768   \n",
       "163       1       26.129166  128.355417  46.349114  154.484582   \n",
       "164       0       29.735971   83.305891  64.077410  113.041862   \n",
       "165       0       29.324472   76.870625  58.715530  106.195096   \n",
       "\n",
       "     Accumulated_Time  \n",
       "No.                    \n",
       "0           86.782606  \n",
       "1          171.604680  \n",
       "2          383.199072  \n",
       "3          501.306462  \n",
       "4          629.066698  \n",
       "..                ...  \n",
       "161      24747.400628  \n",
       "162      24817.317396  \n",
       "163      24971.801978  \n",
       "164      25084.843840  \n",
       "165      25191.038936  \n",
       "\n",
       "[166 rows x 6 columns]"
      ]
     },
     "execution_count": 40,
     "metadata": {},
     "output_type": "execute_result"
    }
   ],
   "source": [
    "Order[2]"
   ]
  },
  {
   "cell_type": "code",
   "execution_count": 41,
   "metadata": {},
   "outputs": [
    {
     "data": {
      "text/html": [
       "<div>\n",
       "<style scoped>\n",
       "    .dataframe tbody tr th:only-of-type {\n",
       "        vertical-align: middle;\n",
       "    }\n",
       "\n",
       "    .dataframe tbody tr th {\n",
       "        vertical-align: top;\n",
       "    }\n",
       "\n",
       "    .dataframe thead th {\n",
       "        text-align: right;\n",
       "    }\n",
       "</style>\n",
       "<table border=\"1\" class=\"dataframe\">\n",
       "  <thead>\n",
       "    <tr style=\"text-align: right;\">\n",
       "      <th></th>\n",
       "      <th>Gender</th>\n",
       "      <th>Attention_Time</th>\n",
       "      <th>Wait_Time</th>\n",
       "      <th>Expenses</th>\n",
       "      <th>Total_Time</th>\n",
       "      <th>Accumulated_Time</th>\n",
       "    </tr>\n",
       "    <tr>\n",
       "      <th>No.</th>\n",
       "      <th></th>\n",
       "      <th></th>\n",
       "      <th></th>\n",
       "      <th></th>\n",
       "      <th></th>\n",
       "      <th></th>\n",
       "    </tr>\n",
       "  </thead>\n",
       "  <tbody>\n",
       "    <tr>\n",
       "      <th>0</th>\n",
       "      <td>1</td>\n",
       "      <td>28.054182</td>\n",
       "      <td>106.710347</td>\n",
       "      <td>71.032336</td>\n",
       "      <td>134.764529</td>\n",
       "      <td>134.764529</td>\n",
       "    </tr>\n",
       "    <tr>\n",
       "      <th>1</th>\n",
       "      <td>0</td>\n",
       "      <td>10.368316</td>\n",
       "      <td>107.385460</td>\n",
       "      <td>20.882309</td>\n",
       "      <td>117.753776</td>\n",
       "      <td>252.518305</td>\n",
       "    </tr>\n",
       "    <tr>\n",
       "      <th>2</th>\n",
       "      <td>1</td>\n",
       "      <td>22.080596</td>\n",
       "      <td>240.096868</td>\n",
       "      <td>78.028451</td>\n",
       "      <td>262.177463</td>\n",
       "      <td>514.695768</td>\n",
       "    </tr>\n",
       "    <tr>\n",
       "      <th>3</th>\n",
       "      <td>1</td>\n",
       "      <td>23.091033</td>\n",
       "      <td>192.060007</td>\n",
       "      <td>68.831865</td>\n",
       "      <td>215.151040</td>\n",
       "      <td>729.846808</td>\n",
       "    </tr>\n",
       "    <tr>\n",
       "      <th>4</th>\n",
       "      <td>0</td>\n",
       "      <td>11.133623</td>\n",
       "      <td>87.054018</td>\n",
       "      <td>79.825971</td>\n",
       "      <td>98.187641</td>\n",
       "      <td>828.034449</td>\n",
       "    </tr>\n",
       "    <tr>\n",
       "      <th>...</th>\n",
       "      <td>...</td>\n",
       "      <td>...</td>\n",
       "      <td>...</td>\n",
       "      <td>...</td>\n",
       "      <td>...</td>\n",
       "      <td>...</td>\n",
       "    </tr>\n",
       "    <tr>\n",
       "      <th>178</th>\n",
       "      <td>0</td>\n",
       "      <td>15.797491</td>\n",
       "      <td>116.858044</td>\n",
       "      <td>52.547262</td>\n",
       "      <td>132.655535</td>\n",
       "      <td>24682.409118</td>\n",
       "    </tr>\n",
       "    <tr>\n",
       "      <th>179</th>\n",
       "      <td>1</td>\n",
       "      <td>24.813502</td>\n",
       "      <td>181.288577</td>\n",
       "      <td>67.747760</td>\n",
       "      <td>206.102079</td>\n",
       "      <td>24888.511197</td>\n",
       "    </tr>\n",
       "    <tr>\n",
       "      <th>180</th>\n",
       "      <td>0</td>\n",
       "      <td>10.550543</td>\n",
       "      <td>95.791161</td>\n",
       "      <td>58.463483</td>\n",
       "      <td>106.341704</td>\n",
       "      <td>24994.852901</td>\n",
       "    </tr>\n",
       "    <tr>\n",
       "      <th>181</th>\n",
       "      <td>0</td>\n",
       "      <td>17.075474</td>\n",
       "      <td>57.781112</td>\n",
       "      <td>53.186111</td>\n",
       "      <td>74.856586</td>\n",
       "      <td>25069.709487</td>\n",
       "    </tr>\n",
       "    <tr>\n",
       "      <th>182</th>\n",
       "      <td>0</td>\n",
       "      <td>11.666259</td>\n",
       "      <td>62.076230</td>\n",
       "      <td>61.851960</td>\n",
       "      <td>73.742490</td>\n",
       "      <td>25143.451977</td>\n",
       "    </tr>\n",
       "  </tbody>\n",
       "</table>\n",
       "<p>183 rows × 6 columns</p>\n",
       "</div>"
      ],
      "text/plain": [
       "     Gender  Attention_Time   Wait_Time   Expenses  Total_Time  \\\n",
       "No.                                                              \n",
       "0         1       28.054182  106.710347  71.032336  134.764529   \n",
       "1         0       10.368316  107.385460  20.882309  117.753776   \n",
       "2         1       22.080596  240.096868  78.028451  262.177463   \n",
       "3         1       23.091033  192.060007  68.831865  215.151040   \n",
       "4         0       11.133623   87.054018  79.825971   98.187641   \n",
       "..      ...             ...         ...        ...         ...   \n",
       "178       0       15.797491  116.858044  52.547262  132.655535   \n",
       "179       1       24.813502  181.288577  67.747760  206.102079   \n",
       "180       0       10.550543   95.791161  58.463483  106.341704   \n",
       "181       0       17.075474   57.781112  53.186111   74.856586   \n",
       "182       0       11.666259   62.076230  61.851960   73.742490   \n",
       "\n",
       "     Accumulated_Time  \n",
       "No.                    \n",
       "0          134.764529  \n",
       "1          252.518305  \n",
       "2          514.695768  \n",
       "3          729.846808  \n",
       "4          828.034449  \n",
       "..                ...  \n",
       "178      24682.409118  \n",
       "179      24888.511197  \n",
       "180      24994.852901  \n",
       "181      25069.709487  \n",
       "182      25143.451977  \n",
       "\n",
       "[183 rows x 6 columns]"
      ]
     },
     "execution_count": 41,
     "metadata": {},
     "output_type": "execute_result"
    }
   ],
   "source": [
    "Order[3]"
   ]
  },
  {
   "cell_type": "code",
   "execution_count": 42,
   "metadata": {},
   "outputs": [
    {
     "data": {
      "text/html": [
       "<div>\n",
       "<style scoped>\n",
       "    .dataframe tbody tr th:only-of-type {\n",
       "        vertical-align: middle;\n",
       "    }\n",
       "\n",
       "    .dataframe tbody tr th {\n",
       "        vertical-align: top;\n",
       "    }\n",
       "\n",
       "    .dataframe thead th {\n",
       "        text-align: right;\n",
       "    }\n",
       "</style>\n",
       "<table border=\"1\" class=\"dataframe\">\n",
       "  <thead>\n",
       "    <tr style=\"text-align: right;\">\n",
       "      <th></th>\n",
       "      <th>Gender</th>\n",
       "      <th>Attention_Time</th>\n",
       "      <th>Wait_Time</th>\n",
       "      <th>Expenses</th>\n",
       "      <th>Total_Time</th>\n",
       "      <th>Accumulated_Time</th>\n",
       "    </tr>\n",
       "    <tr>\n",
       "      <th>No.</th>\n",
       "      <th></th>\n",
       "      <th></th>\n",
       "      <th></th>\n",
       "      <th></th>\n",
       "      <th></th>\n",
       "      <th></th>\n",
       "    </tr>\n",
       "  </thead>\n",
       "  <tbody>\n",
       "    <tr>\n",
       "      <th>0</th>\n",
       "      <td>1</td>\n",
       "      <td>5.883422</td>\n",
       "      <td>180.896556</td>\n",
       "      <td>80.011916</td>\n",
       "      <td>186.779978</td>\n",
       "      <td>186.779978</td>\n",
       "    </tr>\n",
       "    <tr>\n",
       "      <th>1</th>\n",
       "      <td>0</td>\n",
       "      <td>14.897266</td>\n",
       "      <td>75.222197</td>\n",
       "      <td>71.062932</td>\n",
       "      <td>90.119463</td>\n",
       "      <td>276.899441</td>\n",
       "    </tr>\n",
       "    <tr>\n",
       "      <th>2</th>\n",
       "      <td>0</td>\n",
       "      <td>8.933896</td>\n",
       "      <td>67.664498</td>\n",
       "      <td>62.512666</td>\n",
       "      <td>76.598393</td>\n",
       "      <td>353.497834</td>\n",
       "    </tr>\n",
       "    <tr>\n",
       "      <th>3</th>\n",
       "      <td>1</td>\n",
       "      <td>11.137582</td>\n",
       "      <td>265.494052</td>\n",
       "      <td>66.029103</td>\n",
       "      <td>276.631634</td>\n",
       "      <td>630.129469</td>\n",
       "    </tr>\n",
       "    <tr>\n",
       "      <th>4</th>\n",
       "      <td>1</td>\n",
       "      <td>15.778237</td>\n",
       "      <td>215.807229</td>\n",
       "      <td>67.401536</td>\n",
       "      <td>231.585466</td>\n",
       "      <td>861.714935</td>\n",
       "    </tr>\n",
       "    <tr>\n",
       "      <th>...</th>\n",
       "      <td>...</td>\n",
       "      <td>...</td>\n",
       "      <td>...</td>\n",
       "      <td>...</td>\n",
       "      <td>...</td>\n",
       "      <td>...</td>\n",
       "    </tr>\n",
       "    <tr>\n",
       "      <th>167</th>\n",
       "      <td>1</td>\n",
       "      <td>14.516060</td>\n",
       "      <td>248.924679</td>\n",
       "      <td>88.985897</td>\n",
       "      <td>263.440739</td>\n",
       "      <td>24486.352675</td>\n",
       "    </tr>\n",
       "    <tr>\n",
       "      <th>168</th>\n",
       "      <td>0</td>\n",
       "      <td>9.809366</td>\n",
       "      <td>85.226094</td>\n",
       "      <td>49.875835</td>\n",
       "      <td>95.035460</td>\n",
       "      <td>24581.388135</td>\n",
       "    </tr>\n",
       "    <tr>\n",
       "      <th>169</th>\n",
       "      <td>0</td>\n",
       "      <td>17.813667</td>\n",
       "      <td>82.263800</td>\n",
       "      <td>43.227077</td>\n",
       "      <td>100.077466</td>\n",
       "      <td>24681.465601</td>\n",
       "    </tr>\n",
       "    <tr>\n",
       "      <th>170</th>\n",
       "      <td>1</td>\n",
       "      <td>29.639705</td>\n",
       "      <td>65.348722</td>\n",
       "      <td>42.043607</td>\n",
       "      <td>94.988427</td>\n",
       "      <td>24776.454028</td>\n",
       "    </tr>\n",
       "    <tr>\n",
       "      <th>171</th>\n",
       "      <td>1</td>\n",
       "      <td>14.574105</td>\n",
       "      <td>288.409584</td>\n",
       "      <td>44.083431</td>\n",
       "      <td>302.983688</td>\n",
       "      <td>25079.437717</td>\n",
       "    </tr>\n",
       "  </tbody>\n",
       "</table>\n",
       "<p>172 rows × 6 columns</p>\n",
       "</div>"
      ],
      "text/plain": [
       "     Gender  Attention_Time   Wait_Time   Expenses  Total_Time  \\\n",
       "No.                                                              \n",
       "0         1        5.883422  180.896556  80.011916  186.779978   \n",
       "1         0       14.897266   75.222197  71.062932   90.119463   \n",
       "2         0        8.933896   67.664498  62.512666   76.598393   \n",
       "3         1       11.137582  265.494052  66.029103  276.631634   \n",
       "4         1       15.778237  215.807229  67.401536  231.585466   \n",
       "..      ...             ...         ...        ...         ...   \n",
       "167       1       14.516060  248.924679  88.985897  263.440739   \n",
       "168       0        9.809366   85.226094  49.875835   95.035460   \n",
       "169       0       17.813667   82.263800  43.227077  100.077466   \n",
       "170       1       29.639705   65.348722  42.043607   94.988427   \n",
       "171       1       14.574105  288.409584  44.083431  302.983688   \n",
       "\n",
       "     Accumulated_Time  \n",
       "No.                    \n",
       "0          186.779978  \n",
       "1          276.899441  \n",
       "2          353.497834  \n",
       "3          630.129469  \n",
       "4          861.714935  \n",
       "..                ...  \n",
       "167      24486.352675  \n",
       "168      24581.388135  \n",
       "169      24681.465601  \n",
       "170      24776.454028  \n",
       "171      25079.437717  \n",
       "\n",
       "[172 rows x 6 columns]"
      ]
     },
     "execution_count": 42,
     "metadata": {},
     "output_type": "execute_result"
    }
   ],
   "source": [
    "Order[4]"
   ]
  },
  {
   "cell_type": "markdown",
   "metadata": {},
   "source": [
    "##### 1. What were the expenses of women and men in 5 days of work?"
   ]
  },
  {
   "attachments": {},
   "cell_type": "markdown",
   "metadata": {},
   "source": [
    "###### *Women*"
   ]
  },
  {
   "cell_type": "code",
   "execution_count": 43,
   "metadata": {},
   "outputs": [
    {
     "data": {
      "text/plain": [
       "[5489.528616137103,\n",
       " 5443.375826778318,\n",
       " 5027.757457535499,\n",
       " 5731.264508562745,\n",
       " 4878.252132780918]"
      ]
     },
     "execution_count": 43,
     "metadata": {},
     "output_type": "execute_result"
    }
   ],
   "source": [
    "women_days=[Order[i][Order[i]['Gender']==1]['Expenses'].sum() for i in range(d)]\n",
    "women_days"
   ]
  },
  {
   "cell_type": "code",
   "execution_count": 44,
   "metadata": {},
   "outputs": [
    {
     "data": {
      "text/plain": [
       "26570.178541794583"
      ]
     },
     "execution_count": 44,
     "metadata": {},
     "output_type": "execute_result"
    }
   ],
   "source": [
    "np.sum(women_days)"
   ]
  },
  {
   "cell_type": "markdown",
   "metadata": {},
   "source": [
    "###### *Men*"
   ]
  },
  {
   "cell_type": "code",
   "execution_count": 45,
   "metadata": {},
   "outputs": [
    {
     "data": {
      "text/plain": [
       "[4295.929899899226,\n",
       " 3998.847313334708,\n",
       " 4104.919631049505,\n",
       " 4874.693799648869,\n",
       " 4867.785083964693]"
      ]
     },
     "execution_count": 45,
     "metadata": {},
     "output_type": "execute_result"
    }
   ],
   "source": [
    "men_days=[Order[i][Order[i]['Gender']==0]['Expenses'].sum() for i in range(d)]\n",
    "men_days"
   ]
  },
  {
   "cell_type": "code",
   "execution_count": 46,
   "metadata": {},
   "outputs": [
    {
     "data": {
      "text/plain": [
       "22142.175727897004"
      ]
     },
     "execution_count": 46,
     "metadata": {},
     "output_type": "execute_result"
    }
   ],
   "source": [
    "np.sum(men_days)"
   ]
  },
  {
   "attachments": {},
   "cell_type": "markdown",
   "metadata": {},
   "source": [
    "##### 2. What was the average consumption of women and men?"
   ]
  },
  {
   "cell_type": "code",
   "execution_count": 47,
   "metadata": {},
   "outputs": [
    {
     "name": "stdout",
     "output_type": "stream",
     "text": [
      "The average consumption of women was: 63.83 . Men avg. was: 49.04 \n",
      "\n"
     ]
    }
   ],
   "source": [
    "avg_women = np.mean([Order[i][Order[i]['Gender']==1]['Expenses'].mean() for i in range(d)])\n",
    "avg_men = np.mean([Order[i][Order[i]['Gender']==0]['Expenses'].mean() for i in range(d)])\n",
    "print('The average consumption of women was:',avg_women.round(2),'.','Men avg. was:', avg_men.round(2), '\\n',)"
   ]
  },
  {
   "attachments": {},
   "cell_type": "markdown",
   "metadata": {},
   "source": [
    "##### 3. What was the number of people served per day?"
   ]
  },
  {
   "cell_type": "code",
   "execution_count": 48,
   "metadata": {},
   "outputs": [
    {
     "data": {
      "text/plain": [
       "[Int64Index([  0,   1,   2,   3,   4,   5,   6,   7,   8,   9,\n",
       "             ...\n",
       "             167, 168, 169, 170, 171, 172, 173, 174, 175, 176],\n",
       "            dtype='int64', name='No.', length=177),\n",
       " Int64Index([  0,   1,   2,   3,   4,   5,   6,   7,   8,   9,\n",
       "             ...\n",
       "             159, 160, 161, 162, 163, 164, 165, 166, 167, 168],\n",
       "            dtype='int64', name='No.', length=169),\n",
       " Int64Index([  0,   1,   2,   3,   4,   5,   6,   7,   8,   9,\n",
       "             ...\n",
       "             156, 157, 158, 159, 160, 161, 162, 163, 164, 165],\n",
       "            dtype='int64', name='No.', length=166),\n",
       " Int64Index([  0,   1,   2,   3,   4,   5,   6,   7,   8,   9,\n",
       "             ...\n",
       "             173, 174, 175, 176, 177, 178, 179, 180, 181, 182],\n",
       "            dtype='int64', name='No.', length=183),\n",
       " Int64Index([  0,   1,   2,   3,   4,   5,   6,   7,   8,   9,\n",
       "             ...\n",
       "             162, 163, 164, 165, 166, 167, 168, 169, 170, 171],\n",
       "            dtype='int64', name='No.', length=172)]"
      ]
     },
     "execution_count": 48,
     "metadata": {},
     "output_type": "execute_result"
    }
   ],
   "source": [
    "Avg_people = ([Order[i].index for i in range(d)])\n",
    "Avg_people"
   ]
  },
  {
   "attachments": {},
   "cell_type": "markdown",
   "metadata": {},
   "source": [
    "##### 4. What was the average service time?"
   ]
  },
  {
   "cell_type": "code",
   "execution_count": 49,
   "metadata": {},
   "outputs": [
    {
     "name": "stdout",
     "output_type": "stream",
     "text": [
      "The average care time for women was: 196.15 s.  Men avg was: 98.22 s.\n"
     ]
    }
   ],
   "source": [
    "Women_time = np.mean([Order[i][Order[i]['Gender']==1]['Total_Time'].mean() for i in range(d)])\n",
    "Men_time = np.mean([Order[i][Order[i]['Gender']==0]['Total_Time'].mean() for i in range(d)])\n",
    "print('The average care time for women was:',Women_time.round(2),'s. ','Men avg was:', Men_time.round(2), 's.',)"
   ]
  },
  {
   "attachments": {},
   "cell_type": "markdown",
   "metadata": {},
   "source": [
    "##### 5. How much was the average profit of the cafeteria in 5 days of work and its respective profitability?"
   ]
  },
  {
   "cell_type": "code",
   "execution_count": 50,
   "metadata": {},
   "outputs": [
    {
     "name": "stdout",
     "output_type": "stream",
     "text": [
      "The profit from the cafeteria was: 29227.41256181495\n"
     ]
    }
   ],
   "source": [
    "dia_mujer = ([Order[i][Order[i]['Gender']==1]['Expenses'].sum() for i in range(d)])\n",
    "dia_hombre = ([Order[i][Order[i]['Gender']==0]['Expenses'].sum() for i in range(d)])\n",
    "#dia_women,dia_men\n",
    "print('The profit from the cafeteria was:',((np.sum(women_days)+np.sum(men_days))*.60))"
   ]
  }
 ],
 "metadata": {
  "kernelspec": {
   "display_name": "Python 3",
   "language": "python",
   "name": "python3"
  },
  "language_info": {
   "codemirror_mode": {
    "name": "ipython",
    "version": 3
   },
   "file_extension": ".py",
   "mimetype": "text/x-python",
   "name": "python",
   "nbconvert_exporter": "python",
   "pygments_lexer": "ipython3",
   "version": "3.8.13"
  }
 },
 "nbformat": 4,
 "nbformat_minor": 2
}
